{
 "cells": [
  {
   "cell_type": "markdown",
   "id": "574e0c51-a590-4299-9ccd-5a906fbcc473",
   "metadata": {},
   "source": [
    "IMPORTING LIBRARIES"
   ]
  },
  {
   "cell_type": "code",
   "execution_count": 1,
   "id": "9a0b7a68-3c15-40ce-a553-3b68636ea3a1",
   "metadata": {},
   "outputs": [],
   "source": [
    "import pandas as pd\n",
    "import numpy as np\n",
    "import matplotlib.pyplot as plt\n",
    "%matplotlib inline \n",
    "import seaborn as sns\n",
    "# to suppress warnings \n",
    "from warnings import filterwarnings\n",
    "filterwarnings('ignore')\n",
    "from scipy import stats\n",
    "from sklearn.preprocessing import MinMaxScaler\n",
    "from sklearn import datasets, linear_model, metrics\n",
    "from sklearn.linear_model import LinearRegression\n",
    "from sklearn.ensemble import RandomForestRegressor\n",
    "from sklearn.tree import DecisionTreeRegressor\n",
    "from sklearn.ensemble import ExtraTreesRegressor\n",
    "from sklearn.ensemble import  GradientBoostingRegressor\n",
    "from sklearn.ensemble import BaggingRegressor\n",
    "from sklearn.metrics import r2_score\n",
    "from sklearn.metrics import mean_squared_error, mean_absolute_error\n",
    "from sklearn.metrics import accuracy_score\n",
    "from sklearn.model_selection import GridSearchCV\n",
    "from sklearn.model_selection import cross_val_score\n",
    "from sklearn.model_selection import train_test_split\n",
    "from statsmodels.stats.outliers_influence import variance_inflation_factor\n"
   ]
  },
  {
   "cell_type": "markdown",
   "id": "15420848-2d10-4adb-8f04-6631463e6000",
   "metadata": {},
   "source": [
    "EDA"
   ]
  },
  {
   "cell_type": "code",
   "execution_count": 2,
   "id": "2e7596de-1753-47ed-9e30-ee5e6e7ddd93",
   "metadata": {},
   "outputs": [],
   "source": [
    "df = pd.read_csv(r\"C:\\Users\\Swagatika Samal\\Desktop\\documents\\DATA IS GOOD\\Unmessenger\\Machine Learning\\Car Dataset.csv\")"
   ]
  },
  {
   "cell_type": "code",
   "execution_count": 3,
   "id": "822c2506-53c2-4047-88a7-f84b237528da",
   "metadata": {},
   "outputs": [
    {
     "data": {
      "text/html": [
       "<div>\n",
       "<style scoped>\n",
       "    .dataframe tbody tr th:only-of-type {\n",
       "        vertical-align: middle;\n",
       "    }\n",
       "\n",
       "    .dataframe tbody tr th {\n",
       "        vertical-align: top;\n",
       "    }\n",
       "\n",
       "    .dataframe thead th {\n",
       "        text-align: right;\n",
       "    }\n",
       "</style>\n",
       "<table border=\"1\" class=\"dataframe\">\n",
       "  <thead>\n",
       "    <tr style=\"text-align: right;\">\n",
       "      <th></th>\n",
       "      <th>name</th>\n",
       "      <th>year</th>\n",
       "      <th>selling_price</th>\n",
       "      <th>km_driven</th>\n",
       "      <th>fuel</th>\n",
       "      <th>seller_type</th>\n",
       "      <th>transmission</th>\n",
       "      <th>owner</th>\n",
       "    </tr>\n",
       "  </thead>\n",
       "  <tbody>\n",
       "    <tr>\n",
       "      <th>0</th>\n",
       "      <td>Maruti 800 AC</td>\n",
       "      <td>2007</td>\n",
       "      <td>60000</td>\n",
       "      <td>70000</td>\n",
       "      <td>Petrol</td>\n",
       "      <td>Individual</td>\n",
       "      <td>Manual</td>\n",
       "      <td>First Owner</td>\n",
       "    </tr>\n",
       "    <tr>\n",
       "      <th>1</th>\n",
       "      <td>Maruti Wagon R LXI Minor</td>\n",
       "      <td>2007</td>\n",
       "      <td>135000</td>\n",
       "      <td>50000</td>\n",
       "      <td>Petrol</td>\n",
       "      <td>Individual</td>\n",
       "      <td>Manual</td>\n",
       "      <td>First Owner</td>\n",
       "    </tr>\n",
       "    <tr>\n",
       "      <th>2</th>\n",
       "      <td>Hyundai Verna 1.6 SX</td>\n",
       "      <td>2012</td>\n",
       "      <td>600000</td>\n",
       "      <td>100000</td>\n",
       "      <td>Diesel</td>\n",
       "      <td>Individual</td>\n",
       "      <td>Manual</td>\n",
       "      <td>First Owner</td>\n",
       "    </tr>\n",
       "    <tr>\n",
       "      <th>3</th>\n",
       "      <td>Datsun RediGO T Option</td>\n",
       "      <td>2017</td>\n",
       "      <td>250000</td>\n",
       "      <td>46000</td>\n",
       "      <td>Petrol</td>\n",
       "      <td>Individual</td>\n",
       "      <td>Manual</td>\n",
       "      <td>First Owner</td>\n",
       "    </tr>\n",
       "    <tr>\n",
       "      <th>4</th>\n",
       "      <td>Honda Amaze VX i-DTEC</td>\n",
       "      <td>2014</td>\n",
       "      <td>450000</td>\n",
       "      <td>141000</td>\n",
       "      <td>Diesel</td>\n",
       "      <td>Individual</td>\n",
       "      <td>Manual</td>\n",
       "      <td>Second Owner</td>\n",
       "    </tr>\n",
       "  </tbody>\n",
       "</table>\n",
       "</div>"
      ],
      "text/plain": [
       "                       name  year  selling_price  km_driven    fuel  \\\n",
       "0             Maruti 800 AC  2007          60000      70000  Petrol   \n",
       "1  Maruti Wagon R LXI Minor  2007         135000      50000  Petrol   \n",
       "2      Hyundai Verna 1.6 SX  2012         600000     100000  Diesel   \n",
       "3    Datsun RediGO T Option  2017         250000      46000  Petrol   \n",
       "4     Honda Amaze VX i-DTEC  2014         450000     141000  Diesel   \n",
       "\n",
       "  seller_type transmission         owner  \n",
       "0  Individual       Manual   First Owner  \n",
       "1  Individual       Manual   First Owner  \n",
       "2  Individual       Manual   First Owner  \n",
       "3  Individual       Manual   First Owner  \n",
       "4  Individual       Manual  Second Owner  "
      ]
     },
     "execution_count": 3,
     "metadata": {},
     "output_type": "execute_result"
    }
   ],
   "source": [
    "df.head()"
   ]
  },
  {
   "cell_type": "code",
   "execution_count": 4,
   "id": "691afe58-94be-4c82-af0c-a72239dd7196",
   "metadata": {},
   "outputs": [
    {
     "name": "stdout",
     "output_type": "stream",
     "text": [
      "<class 'pandas.core.frame.DataFrame'>\n",
      "RangeIndex: 4340 entries, 0 to 4339\n",
      "Data columns (total 8 columns):\n",
      " #   Column         Non-Null Count  Dtype \n",
      "---  ------         --------------  ----- \n",
      " 0   name           4340 non-null   object\n",
      " 1   year           4340 non-null   int64 \n",
      " 2   selling_price  4340 non-null   int64 \n",
      " 3   km_driven      4340 non-null   int64 \n",
      " 4   fuel           4340 non-null   object\n",
      " 5   seller_type    4340 non-null   object\n",
      " 6   transmission   4340 non-null   object\n",
      " 7   owner          4340 non-null   object\n",
      "dtypes: int64(3), object(5)\n",
      "memory usage: 271.4+ KB\n"
     ]
    }
   ],
   "source": [
    "df.info()"
   ]
  },
  {
   "cell_type": "code",
   "execution_count": 5,
   "id": "09cabbfb-a6db-4535-8586-ae96c85a38c6",
   "metadata": {},
   "outputs": [
    {
     "data": {
      "text/html": [
       "<div>\n",
       "<style scoped>\n",
       "    .dataframe tbody tr th:only-of-type {\n",
       "        vertical-align: middle;\n",
       "    }\n",
       "\n",
       "    .dataframe tbody tr th {\n",
       "        vertical-align: top;\n",
       "    }\n",
       "\n",
       "    .dataframe thead th {\n",
       "        text-align: right;\n",
       "    }\n",
       "</style>\n",
       "<table border=\"1\" class=\"dataframe\">\n",
       "  <thead>\n",
       "    <tr style=\"text-align: right;\">\n",
       "      <th></th>\n",
       "      <th>year</th>\n",
       "      <th>selling_price</th>\n",
       "      <th>km_driven</th>\n",
       "    </tr>\n",
       "  </thead>\n",
       "  <tbody>\n",
       "    <tr>\n",
       "      <th>count</th>\n",
       "      <td>4340.000000</td>\n",
       "      <td>4.340000e+03</td>\n",
       "      <td>4340.000000</td>\n",
       "    </tr>\n",
       "    <tr>\n",
       "      <th>mean</th>\n",
       "      <td>2013.090783</td>\n",
       "      <td>5.041273e+05</td>\n",
       "      <td>66215.777419</td>\n",
       "    </tr>\n",
       "    <tr>\n",
       "      <th>std</th>\n",
       "      <td>4.215344</td>\n",
       "      <td>5.785487e+05</td>\n",
       "      <td>46644.102194</td>\n",
       "    </tr>\n",
       "    <tr>\n",
       "      <th>min</th>\n",
       "      <td>1992.000000</td>\n",
       "      <td>2.000000e+04</td>\n",
       "      <td>1.000000</td>\n",
       "    </tr>\n",
       "    <tr>\n",
       "      <th>25%</th>\n",
       "      <td>2011.000000</td>\n",
       "      <td>2.087498e+05</td>\n",
       "      <td>35000.000000</td>\n",
       "    </tr>\n",
       "    <tr>\n",
       "      <th>50%</th>\n",
       "      <td>2014.000000</td>\n",
       "      <td>3.500000e+05</td>\n",
       "      <td>60000.000000</td>\n",
       "    </tr>\n",
       "    <tr>\n",
       "      <th>75%</th>\n",
       "      <td>2016.000000</td>\n",
       "      <td>6.000000e+05</td>\n",
       "      <td>90000.000000</td>\n",
       "    </tr>\n",
       "    <tr>\n",
       "      <th>max</th>\n",
       "      <td>2020.000000</td>\n",
       "      <td>8.900000e+06</td>\n",
       "      <td>806599.000000</td>\n",
       "    </tr>\n",
       "  </tbody>\n",
       "</table>\n",
       "</div>"
      ],
      "text/plain": [
       "              year  selling_price      km_driven\n",
       "count  4340.000000   4.340000e+03    4340.000000\n",
       "mean   2013.090783   5.041273e+05   66215.777419\n",
       "std       4.215344   5.785487e+05   46644.102194\n",
       "min    1992.000000   2.000000e+04       1.000000\n",
       "25%    2011.000000   2.087498e+05   35000.000000\n",
       "50%    2014.000000   3.500000e+05   60000.000000\n",
       "75%    2016.000000   6.000000e+05   90000.000000\n",
       "max    2020.000000   8.900000e+06  806599.000000"
      ]
     },
     "execution_count": 5,
     "metadata": {},
     "output_type": "execute_result"
    }
   ],
   "source": [
    "df.describe(include=np.number)"
   ]
  },
  {
   "cell_type": "code",
   "execution_count": 6,
   "id": "025f9f87-54ad-4037-b375-64df97caf27c",
   "metadata": {},
   "outputs": [
    {
     "data": {
      "text/html": [
       "<div>\n",
       "<style scoped>\n",
       "    .dataframe tbody tr th:only-of-type {\n",
       "        vertical-align: middle;\n",
       "    }\n",
       "\n",
       "    .dataframe tbody tr th {\n",
       "        vertical-align: top;\n",
       "    }\n",
       "\n",
       "    .dataframe thead th {\n",
       "        text-align: right;\n",
       "    }\n",
       "</style>\n",
       "<table border=\"1\" class=\"dataframe\">\n",
       "  <thead>\n",
       "    <tr style=\"text-align: right;\">\n",
       "      <th></th>\n",
       "      <th>name</th>\n",
       "      <th>fuel</th>\n",
       "      <th>seller_type</th>\n",
       "      <th>transmission</th>\n",
       "      <th>owner</th>\n",
       "    </tr>\n",
       "  </thead>\n",
       "  <tbody>\n",
       "    <tr>\n",
       "      <th>count</th>\n",
       "      <td>4340</td>\n",
       "      <td>4340</td>\n",
       "      <td>4340</td>\n",
       "      <td>4340</td>\n",
       "      <td>4340</td>\n",
       "    </tr>\n",
       "    <tr>\n",
       "      <th>unique</th>\n",
       "      <td>1491</td>\n",
       "      <td>5</td>\n",
       "      <td>3</td>\n",
       "      <td>2</td>\n",
       "      <td>5</td>\n",
       "    </tr>\n",
       "    <tr>\n",
       "      <th>top</th>\n",
       "      <td>Maruti Swift Dzire VDI</td>\n",
       "      <td>Diesel</td>\n",
       "      <td>Individual</td>\n",
       "      <td>Manual</td>\n",
       "      <td>First Owner</td>\n",
       "    </tr>\n",
       "    <tr>\n",
       "      <th>freq</th>\n",
       "      <td>69</td>\n",
       "      <td>2153</td>\n",
       "      <td>3244</td>\n",
       "      <td>3892</td>\n",
       "      <td>2832</td>\n",
       "    </tr>\n",
       "  </tbody>\n",
       "</table>\n",
       "</div>"
      ],
      "text/plain": [
       "                          name    fuel seller_type transmission        owner\n",
       "count                     4340    4340        4340         4340         4340\n",
       "unique                    1491       5           3            2            5\n",
       "top     Maruti Swift Dzire VDI  Diesel  Individual       Manual  First Owner\n",
       "freq                        69    2153        3244         3892         2832"
      ]
     },
     "execution_count": 6,
     "metadata": {},
     "output_type": "execute_result"
    }
   ],
   "source": [
    "df.describe(include='object')"
   ]
  },
  {
   "cell_type": "code",
   "execution_count": 7,
   "id": "0d5235c5-cac3-45d7-90d7-2a761b1d0beb",
   "metadata": {},
   "outputs": [
    {
     "data": {
      "text/plain": [
       "(4340, 8)"
      ]
     },
     "execution_count": 7,
     "metadata": {},
     "output_type": "execute_result"
    }
   ],
   "source": [
    "df.shape"
   ]
  },
  {
   "cell_type": "code",
   "execution_count": 8,
   "id": "849f7758-1047-4917-a241-e2627826757e",
   "metadata": {},
   "outputs": [
    {
     "data": {
      "text/plain": [
       "name             0\n",
       "year             0\n",
       "selling_price    0\n",
       "km_driven        0\n",
       "fuel             0\n",
       "seller_type      0\n",
       "transmission     0\n",
       "owner            0\n",
       "dtype: int64"
      ]
     },
     "execution_count": 8,
     "metadata": {},
     "output_type": "execute_result"
    }
   ],
   "source": [
    "df.isnull().sum()"
   ]
  },
  {
   "cell_type": "code",
   "execution_count": 9,
   "id": "6583251b-7c58-4b8b-9096-22df33f8ff65",
   "metadata": {},
   "outputs": [
    {
     "name": "stdout",
     "output_type": "stream",
     "text": [
      "Continuous variables are :  Index(['year', 'selling_price', 'km_driven'], dtype='object')\n",
      "Categorical Columns are :  Index(['name', 'fuel', 'seller_type', 'transmission', 'owner'], dtype='object')\n"
     ]
    }
   ],
   "source": [
    "car_cat=df.select_dtypes(include = 'object')\n",
    "car_num=df.select_dtypes(include = np.number)\n",
    "print('Continuous variables are : ',car_num.columns)\n",
    "print('Categorical Columns are : ',car_cat.columns)"
   ]
  },
  {
   "cell_type": "code",
   "execution_count": 10,
   "id": "9ed247c1-60da-4ad9-8218-0c94902b3abc",
   "metadata": {},
   "outputs": [
    {
     "name": "stdout",
     "output_type": "stream",
     "text": [
      "<class 'pandas.core.frame.DataFrame'>\n",
      "RangeIndex: 4340 entries, 0 to 4339\n",
      "Data columns (total 3 columns):\n",
      " #   Column         Non-Null Count  Dtype\n",
      "---  ------         --------------  -----\n",
      " 0   year           4340 non-null   int64\n",
      " 1   selling_price  4340 non-null   int64\n",
      " 2   km_driven      4340 non-null   int64\n",
      "dtypes: int64(3)\n",
      "memory usage: 101.8 KB\n"
     ]
    }
   ],
   "source": [
    "car_num.info()"
   ]
  },
  {
   "cell_type": "code",
   "execution_count": 11,
   "id": "44133544-8bf4-43c0-9a21-1d28df9f0439",
   "metadata": {},
   "outputs": [
    {
     "name": "stdout",
     "output_type": "stream",
     "text": [
      "% Values in each categorical columns\n",
      "\n",
      "% Values in column  name\n",
      "name\n",
      "Maruti Swift Dzire VDI                     0.015899\n",
      "Maruti Alto 800 LXI                        0.013594\n",
      "Maruti Alto LXi                            0.010829\n",
      "Maruti Alto LX                             0.008065\n",
      "Hyundai EON Era Plus                       0.008065\n",
      "                                             ...   \n",
      "Hyundai Verna Transform CRDi VGT SX ABS    0.000230\n",
      "Maruti S-Presso VXI Plus                   0.000230\n",
      "Toyota Etios Liva 1.2 VX                   0.000230\n",
      "Toyota Yaris G                             0.000230\n",
      "Hyundai i20 Magna 1.4 CRDi                 0.000230\n",
      "Name: proportion, Length: 1491, dtype: float64\n",
      "\n",
      "% Values in column  fuel\n",
      "fuel\n",
      "Diesel      0.496083\n",
      "Petrol      0.489171\n",
      "CNG         0.009217\n",
      "LPG         0.005300\n",
      "Electric    0.000230\n",
      "Name: proportion, dtype: float64\n",
      "\n",
      "% Values in column  seller_type\n",
      "seller_type\n",
      "Individual          0.747465\n",
      "Dealer              0.229032\n",
      "Trustmark Dealer    0.023502\n",
      "Name: proportion, dtype: float64\n",
      "\n",
      "% Values in column  transmission\n",
      "transmission\n",
      "Manual       0.896774\n",
      "Automatic    0.103226\n",
      "Name: proportion, dtype: float64\n",
      "\n",
      "% Values in column  owner\n",
      "owner\n",
      "First Owner             0.652535\n",
      "Second Owner            0.254839\n",
      "Third Owner             0.070046\n",
      "Fourth & Above Owner    0.018664\n",
      "Test Drive Car          0.003917\n",
      "Name: proportion, dtype: float64\n"
     ]
    }
   ],
   "source": [
    "print('% Values in each categorical columns')\n",
    "for i in car_cat.columns:\n",
    "    print('\\n% Values in column ',i)\n",
    "    print((df[i].value_counts(1)))"
   ]
  },
  {
   "cell_type": "code",
   "execution_count": 12,
   "id": "8ac42349-1a77-4be9-9600-06e0ccd7825b",
   "metadata": {},
   "outputs": [
    {
     "data": {
      "text/html": [
       "<div>\n",
       "<style scoped>\n",
       "    .dataframe tbody tr th:only-of-type {\n",
       "        vertical-align: middle;\n",
       "    }\n",
       "\n",
       "    .dataframe tbody tr th {\n",
       "        vertical-align: top;\n",
       "    }\n",
       "\n",
       "    .dataframe thead th {\n",
       "        text-align: right;\n",
       "    }\n",
       "</style>\n",
       "<table border=\"1\" class=\"dataframe\">\n",
       "  <thead>\n",
       "    <tr style=\"text-align: right;\">\n",
       "      <th></th>\n",
       "      <th>year</th>\n",
       "      <th>selling_price</th>\n",
       "      <th>km_driven</th>\n",
       "    </tr>\n",
       "  </thead>\n",
       "  <tbody>\n",
       "    <tr>\n",
       "      <th>0</th>\n",
       "      <td>2007</td>\n",
       "      <td>60000</td>\n",
       "      <td>70000</td>\n",
       "    </tr>\n",
       "    <tr>\n",
       "      <th>1</th>\n",
       "      <td>2007</td>\n",
       "      <td>135000</td>\n",
       "      <td>50000</td>\n",
       "    </tr>\n",
       "    <tr>\n",
       "      <th>2</th>\n",
       "      <td>2012</td>\n",
       "      <td>600000</td>\n",
       "      <td>100000</td>\n",
       "    </tr>\n",
       "    <tr>\n",
       "      <th>3</th>\n",
       "      <td>2017</td>\n",
       "      <td>250000</td>\n",
       "      <td>46000</td>\n",
       "    </tr>\n",
       "    <tr>\n",
       "      <th>4</th>\n",
       "      <td>2014</td>\n",
       "      <td>450000</td>\n",
       "      <td>141000</td>\n",
       "    </tr>\n",
       "  </tbody>\n",
       "</table>\n",
       "</div>"
      ],
      "text/plain": [
       "   year  selling_price  km_driven\n",
       "0  2007          60000      70000\n",
       "1  2007         135000      50000\n",
       "2  2012         600000     100000\n",
       "3  2017         250000      46000\n",
       "4  2014         450000     141000"
      ]
     },
     "execution_count": 12,
     "metadata": {},
     "output_type": "execute_result"
    }
   ],
   "source": [
    "car_num.head()\n"
   ]
  },
  {
   "cell_type": "code",
   "execution_count": 13,
   "id": "e5d2168e-0db7-4d62-acff-ed0c3fec9b11",
   "metadata": {},
   "outputs": [
    {
     "data": {
      "text/plain": [
       "name\n",
       "Maruti Swift Dzire VDI                     69\n",
       "Maruti Alto 800 LXI                        59\n",
       "Maruti Alto LXi                            47\n",
       "Maruti Alto LX                             35\n",
       "Hyundai EON Era Plus                       35\n",
       "                                           ..\n",
       "Hyundai Verna Transform CRDi VGT SX ABS     1\n",
       "Maruti S-Presso VXI Plus                    1\n",
       "Toyota Etios Liva 1.2 VX                    1\n",
       "Toyota Yaris G                              1\n",
       "Hyundai i20 Magna 1.4 CRDi                  1\n",
       "Name: count, Length: 1491, dtype: int64"
      ]
     },
     "execution_count": 13,
     "metadata": {},
     "output_type": "execute_result"
    }
   ],
   "source": [
    "df[\"name\"].value_counts()"
   ]
  },
  {
   "cell_type": "code",
   "execution_count": 14,
   "id": "b9c4e5c8-56ea-45af-acc4-6838819d83da",
   "metadata": {},
   "outputs": [],
   "source": [
    "make_df = df[\"name\"].str.split(\" \", expand = True)"
   ]
  },
  {
   "cell_type": "code",
   "execution_count": 15,
   "id": "1fa81b17-ec94-443e-ac22-2ca9dfa061fe",
   "metadata": {},
   "outputs": [],
   "source": [
    "df[\"manufacturer\"] = make_df[0]"
   ]
  },
  {
   "cell_type": "code",
   "execution_count": 16,
   "id": "0e46fe45-eb8c-4add-8fc9-93aadfbb8321",
   "metadata": {},
   "outputs": [
    {
     "data": {
      "text/html": [
       "<div>\n",
       "<style scoped>\n",
       "    .dataframe tbody tr th:only-of-type {\n",
       "        vertical-align: middle;\n",
       "    }\n",
       "\n",
       "    .dataframe tbody tr th {\n",
       "        vertical-align: top;\n",
       "    }\n",
       "\n",
       "    .dataframe thead th {\n",
       "        text-align: right;\n",
       "    }\n",
       "</style>\n",
       "<table border=\"1\" class=\"dataframe\">\n",
       "  <thead>\n",
       "    <tr style=\"text-align: right;\">\n",
       "      <th></th>\n",
       "      <th>name</th>\n",
       "      <th>year</th>\n",
       "      <th>selling_price</th>\n",
       "      <th>km_driven</th>\n",
       "      <th>fuel</th>\n",
       "      <th>seller_type</th>\n",
       "      <th>transmission</th>\n",
       "      <th>owner</th>\n",
       "      <th>manufacturer</th>\n",
       "    </tr>\n",
       "  </thead>\n",
       "  <tbody>\n",
       "    <tr>\n",
       "      <th>0</th>\n",
       "      <td>Maruti 800 AC</td>\n",
       "      <td>2007</td>\n",
       "      <td>60000</td>\n",
       "      <td>70000</td>\n",
       "      <td>Petrol</td>\n",
       "      <td>Individual</td>\n",
       "      <td>Manual</td>\n",
       "      <td>First Owner</td>\n",
       "      <td>Maruti</td>\n",
       "    </tr>\n",
       "    <tr>\n",
       "      <th>1</th>\n",
       "      <td>Maruti Wagon R LXI Minor</td>\n",
       "      <td>2007</td>\n",
       "      <td>135000</td>\n",
       "      <td>50000</td>\n",
       "      <td>Petrol</td>\n",
       "      <td>Individual</td>\n",
       "      <td>Manual</td>\n",
       "      <td>First Owner</td>\n",
       "      <td>Maruti</td>\n",
       "    </tr>\n",
       "    <tr>\n",
       "      <th>2</th>\n",
       "      <td>Hyundai Verna 1.6 SX</td>\n",
       "      <td>2012</td>\n",
       "      <td>600000</td>\n",
       "      <td>100000</td>\n",
       "      <td>Diesel</td>\n",
       "      <td>Individual</td>\n",
       "      <td>Manual</td>\n",
       "      <td>First Owner</td>\n",
       "      <td>Hyundai</td>\n",
       "    </tr>\n",
       "    <tr>\n",
       "      <th>3</th>\n",
       "      <td>Datsun RediGO T Option</td>\n",
       "      <td>2017</td>\n",
       "      <td>250000</td>\n",
       "      <td>46000</td>\n",
       "      <td>Petrol</td>\n",
       "      <td>Individual</td>\n",
       "      <td>Manual</td>\n",
       "      <td>First Owner</td>\n",
       "      <td>Datsun</td>\n",
       "    </tr>\n",
       "    <tr>\n",
       "      <th>4</th>\n",
       "      <td>Honda Amaze VX i-DTEC</td>\n",
       "      <td>2014</td>\n",
       "      <td>450000</td>\n",
       "      <td>141000</td>\n",
       "      <td>Diesel</td>\n",
       "      <td>Individual</td>\n",
       "      <td>Manual</td>\n",
       "      <td>Second Owner</td>\n",
       "      <td>Honda</td>\n",
       "    </tr>\n",
       "  </tbody>\n",
       "</table>\n",
       "</div>"
      ],
      "text/plain": [
       "                       name  year  selling_price  km_driven    fuel  \\\n",
       "0             Maruti 800 AC  2007          60000      70000  Petrol   \n",
       "1  Maruti Wagon R LXI Minor  2007         135000      50000  Petrol   \n",
       "2      Hyundai Verna 1.6 SX  2012         600000     100000  Diesel   \n",
       "3    Datsun RediGO T Option  2017         250000      46000  Petrol   \n",
       "4     Honda Amaze VX i-DTEC  2014         450000     141000  Diesel   \n",
       "\n",
       "  seller_type transmission         owner manufacturer  \n",
       "0  Individual       Manual   First Owner       Maruti  \n",
       "1  Individual       Manual   First Owner       Maruti  \n",
       "2  Individual       Manual   First Owner      Hyundai  \n",
       "3  Individual       Manual   First Owner       Datsun  \n",
       "4  Individual       Manual  Second Owner        Honda  "
      ]
     },
     "execution_count": 16,
     "metadata": {},
     "output_type": "execute_result"
    }
   ],
   "source": [
    "df.head()"
   ]
  },
  {
   "cell_type": "code",
   "execution_count": 17,
   "id": "24f7137d-1660-4a42-8731-e2564df28355",
   "metadata": {},
   "outputs": [
    {
     "data": {
      "text/plain": [
       "name             0\n",
       "year             0\n",
       "selling_price    0\n",
       "km_driven        0\n",
       "fuel             0\n",
       "seller_type      0\n",
       "transmission     0\n",
       "owner            0\n",
       "manufacturer     0\n",
       "dtype: int64"
      ]
     },
     "execution_count": 17,
     "metadata": {},
     "output_type": "execute_result"
    }
   ],
   "source": [
    "df.isnull().sum()"
   ]
  },
  {
   "cell_type": "markdown",
   "id": "0f8f286e-a1f2-41b0-a7e0-e2b315d782ae",
   "metadata": {},
   "source": [
    "DISTRIBUTION OF VARIABLES"
   ]
  },
  {
   "cell_type": "raw",
   "id": "d1fdcefe-f24c-4d06-abdb-c47d1d158241",
   "metadata": {},
   "source": [
    "Distribution of Target Variable"
   ]
  },
  {
   "cell_type": "code",
   "execution_count": 18,
   "id": "bee9d544-d7e9-438b-9aff-a92997f022d0",
   "metadata": {},
   "outputs": [
    {
     "data": {
      "text/plain": [
       "<Axes: >"
      ]
     },
     "execution_count": 18,
     "metadata": {},
     "output_type": "execute_result"
    },
    {
     "data": {
      "image/png": "[encoded data removed]",
      "text/plain": [
       "<Figure size 2000x700 with 2 Axes>"
      ]
     },
     "metadata": {},
     "output_type": "display_data"
    }
   ],
   "source": [
    "plt.figure(figsize=(20,7))\n",
    "plt.subplot(1,2,1)\n",
    "sns.distplot(df['selling_price'])\n",
    "\n",
    "plt.subplot(1,2,2)\n",
    "sns.boxplot(df['selling_price'])\n"
   ]
  },
  {
   "cell_type": "raw",
   "id": "857098c8-5e56-4521-9451-a6717bb36bd3",
   "metadata": {},
   "source": [
    "Distribution Of Categorical Variables"
   ]
  },
  {
   "cell_type": "raw",
   "id": "20edb042-c982-4605-9b8c-e1279d45075f",
   "metadata": {},
   "source": [
    "1.Fuel"
   ]
  },
  {
   "cell_type": "code",
   "execution_count": 19,
   "id": "27a1a5c5-316a-4c9b-99bc-1db3e4e25f8e",
   "metadata": {},
   "outputs": [
    {
     "data": {
      "image/png": "[encoded data removed]",
      "text/plain": [
       "<Figure size 2000x800 with 2 Axes>"
      ]
     },
     "metadata": {},
     "output_type": "display_data"
    },
    {
     "data": {
      "image/png": "[encoded data removed]",
      "text/plain": [
       "<Figure size 800x600 with 1 Axes>"
      ]
     },
     "metadata": {},
     "output_type": "display_data"
    }
   ],
   "source": [
    "plt.figure(figsize=(20,8))\n",
    "\n",
    "plt.subplot(1,2,1)\n",
    "plt.title('Fuel Type Histogram')\n",
    "sns.countplot(df, x=\"fuel\", palette=(\"Blues_d\"))\n",
    "\n",
    "plt.subplot(1,2,2)\n",
    "plt.title('Fuel Type vs Price')\n",
    "sns.boxplot(x=df['fuel'], y=df['selling_price'], palette=(\"PuBuGn\"))\n",
    "\n",
    "plt.show()\n",
    "\n",
    "df1 = pd.DataFrame(df.groupby(['fuel'])['selling_price'].mean().sort_values(ascending = False))\n",
    "df1.plot.bar(figsize=(8,6))\n",
    "plt.title('Fuel Type vs Average Price')\n",
    "plt.show()"
   ]
  },
  {
   "cell_type": "code",
   "execution_count": 20,
   "id": "5c4d3a9a-bfca-469e-9b94-4c3bc19cc6f4",
   "metadata": {},
   "outputs": [],
   "source": [
    "#Number of petrol and diesel fueled cars are more than any other fueled car.\n",
    "#Average selling price of Diesel cars is comparitively more than any other car."
   ]
  },
  {
   "cell_type": "raw",
   "id": "6f7d6e73-5ef0-4f8f-8da8-510efec95871",
   "metadata": {},
   "source": [
    "2.Seller Type"
   ]
  },
  {
   "cell_type": "code",
   "execution_count": 21,
   "id": "15df4dfc-0e48-4826-a12a-cba79fca385d",
   "metadata": {},
   "outputs": [
    {
     "data": {
      "image/png": "[encoded data removed]",
      "text/plain": [
       "<Figure size 2000x800 with 2 Axes>"
      ]
     },
     "metadata": {},
     "output_type": "display_data"
    },
    {
     "data": {
      "image/png": "[encoded data removed]",
      "text/plain": [
       "<Figure size 800x600 with 1 Axes>"
      ]
     },
     "metadata": {},
     "output_type": "display_data"
    }
   ],
   "source": [
    "plt.figure(figsize=(20,8))\n",
    "\n",
    "plt.subplot(1,2,1)\n",
    "plt.title('Seller Type Histogram')\n",
    "sns.countplot(df, x=\"seller_type\", palette=(\"magma\"))\n",
    "\n",
    "plt.subplot(1,2,2)\n",
    "plt.title('Seller Type vs Price')\n",
    "sns.boxplot(x=df['seller_type'], y=df['selling_price'], palette=(\"magma\"))\n",
    "\n",
    "plt.show()\n",
    "\n",
    "df3 = pd.DataFrame(df.groupby(['seller_type'])['selling_price'].mean().sort_values(ascending = False))\n",
    "df3.plot.bar(figsize=(8,6))\n",
    "plt.title('Seller Type vs Average Price')\n",
    "plt.show()"
   ]
  },
  {
   "cell_type": "code",
   "execution_count": 22,
   "id": "e8298d3a-923e-482b-9bf3-b8154b243ab7",
   "metadata": {},
   "outputs": [],
   "source": [
    "# Individuals sell their car more easily\n",
    "#But Avearage Price of car goes up as a seller sells through Trustmark Dealer"
   ]
  },
  {
   "cell_type": "raw",
   "id": "693c8701-12e0-42c9-b204-006fe8d6c3e5",
   "metadata": {},
   "source": [
    "3.Owner Type"
   ]
  },
  {
   "cell_type": "code",
   "execution_count": 23,
   "id": "3c6e4912-f474-4c3f-8b90-38544d196c72",
   "metadata": {},
   "outputs": [
    {
     "data": {
      "image/png": "[encoded data removed]",
      "text/plain": [
       "<Figure size 2000x800 with 2 Axes>"
      ]
     },
     "metadata": {},
     "output_type": "display_data"
    },
    {
     "data": {
      "image/png": "[encoded data removed]",
      "text/plain": [
       "<Figure size 800x600 with 1 Axes>"
      ]
     },
     "metadata": {},
     "output_type": "display_data"
    }
   ],
   "source": [
    "plt.figure(figsize=(20,8))\n",
    "\n",
    "plt.subplot(1,2,1)\n",
    "plt.title('Owner Type Histogram')\n",
    "sns.countplot(df, x=\"owner\", palette=(\"plasma\"))\n",
    "\n",
    "plt.subplot(1,2,2)\n",
    "plt.title('Owner Type vs Price')\n",
    "sns.boxplot(x=df['owner'], y=df['selling_price'], palette=(\"plasma\"))\n",
    "\n",
    "plt.show()\n",
    "\n",
    "df4 = pd.DataFrame(df.groupby(['owner'])['selling_price'].mean().sort_values(ascending = False))\n",
    "df4.plot.bar(figsize=(8,6))\n",
    "plt.title('Owner Type vs Average Price')\n",
    "plt.show()"
   ]
  },
  {
   "cell_type": "code",
   "execution_count": 24,
   "id": "43c510b2-6574-4257-8cda-a94e54aa64e0",
   "metadata": {},
   "outputs": [],
   "source": [
    "# People love to buy new car rather than used cars\n",
    "#But the avearage selling price of Test Drive cars is more"
   ]
  },
  {
   "cell_type": "raw",
   "id": "1995b66a-bfcf-4a4a-ad05-496c83150db3",
   "metadata": {},
   "source": [
    "4.Transmission Type"
   ]
  },
  {
   "cell_type": "code",
   "execution_count": 25,
   "id": "3dd9cdbe-90f5-44ab-99b4-7b340952fdf4",
   "metadata": {},
   "outputs": [
    {
     "data": {
      "image/png": "[encoded data removed]",
      "text/plain": [
       "<Figure size 2000x800 with 2 Axes>"
      ]
     },
     "metadata": {},
     "output_type": "display_data"
    },
    {
     "data": {
      "image/png": "[encoded data removed]",
      "text/plain": [
       "<Figure size 800x600 with 1 Axes>"
      ]
     },
     "metadata": {},
     "output_type": "display_data"
    }
   ],
   "source": [
    "plt.figure(figsize=(20,8))\n",
    "\n",
    "plt.subplot(1,2,1)\n",
    "plt.title('Transmission Type Histogram')\n",
    "sns.countplot(df, x=\"transmission\", palette=(\"cubehelix\"))\n",
    "\n",
    "plt.subplot(1,2,2)\n",
    "plt.title('Transmission Type vs Price')\n",
    "sns.boxplot(x=df['transmission'], y=df['selling_price'], palette=(\"cubehelix\"))\n",
    "\n",
    "plt.show()\n",
    "\n",
    "df5 = pd.DataFrame(df.groupby(['transmission'])['selling_price'].mean().sort_values(ascending = False))\n",
    "df5.plot.bar(figsize=(8,6))\n",
    "plt.title('Transmission Type vs Average Price')\n",
    "plt.show()"
   ]
  },
  {
   "cell_type": "code",
   "execution_count": 26,
   "id": "67f67013-96a0-4b99-8ce8-f87fb2eeafcd",
   "metadata": {},
   "outputs": [],
   "source": [
    "#People prefer to buy manually driven cars\n",
    "#But average selling price of Automatic cars is more than Manual"
   ]
  },
  {
   "cell_type": "raw",
   "id": "94cf293b-b962-4ecb-a937-070a3f33f16d",
   "metadata": {},
   "source": [
    "5.Manufacturer Type"
   ]
  },
  {
   "cell_type": "code",
   "execution_count": 27,
   "id": "05fe9354-a191-43cd-b8c9-5a2a29e96b9a",
   "metadata": {},
   "outputs": [
    {
     "data": {
      "text/plain": [
       "Text(0, 0.5, 'Count of cars')"
      ]
     },
     "execution_count": 27,
     "metadata": {},
     "output_type": "execute_result"
    },
    {
     "data": {
      "image/png": "[encoded data removed]",
      "text/plain": [
       "<Figure size 1200x800 with 1 Axes>"
      ]
     },
     "metadata": {},
     "output_type": "display_data"
    }
   ],
   "source": [
    "plt.figure(figsize = (12, 8))\n",
    "plot = sns.countplot(x = 'manufacturer', data = df)\n",
    "plt.xticks(rotation = 90)\n",
    "for p in plot.patches:\n",
    "    plot.annotate(p.get_height(), \n",
    "                        (p.get_x() + p.get_width() / 2.0, \n",
    "                         p.get_height()), \n",
    "                        ha = 'center', \n",
    "                        va = 'center', \n",
    "                        xytext = (0, 5),\n",
    "                        textcoords = 'offset points')\n",
    "\n",
    "plt.title(\"Count of cars based on manufacturers\")\n",
    "plt.xlabel(\"Manufacturer\")\n",
    "plt.ylabel(\"Count of cars\")"
   ]
  },
  {
   "cell_type": "code",
   "execution_count": 28,
   "id": "cc1f793c-0ce9-4f4d-a733-cddc34801343",
   "metadata": {},
   "outputs": [],
   "source": [
    "#People mostly prefer Maruti and Hyundai Cars"
   ]
  },
  {
   "cell_type": "raw",
   "id": "b0271266-1b00-4045-95d6-87ce494f5c4d",
   "metadata": {},
   "source": [
    "Distribution of Numerical Variables"
   ]
  },
  {
   "cell_type": "code",
   "execution_count": 29,
   "id": "2e891b2d-ce72-4782-b701-bb265a87cc8a",
   "metadata": {},
   "outputs": [
    {
     "data": {
      "image/png": "[encoded data removed]",
      "text/plain": [
       "<Figure size 1000x2000 with 2 Axes>"
      ]
     },
     "metadata": {},
     "output_type": "display_data"
    }
   ],
   "source": [
    "#visualization of numerical variables w.r.t selling price(target variable)\n",
    "def scatter(x,fig):\n",
    "    plt.subplot(5,1,fig)\n",
    "    plt.scatter(df[x],df['selling_price'])\n",
    "    plt.title(x+' vs Price')\n",
    "    plt.ylabel('Price')\n",
    "    plt.xlabel(x)\n",
    "\n",
    "plt.figure(figsize=(10,20))\n",
    "\n",
    "scatter('year', 1)\n",
    "scatter('km_driven', 2)\n",
    "\n",
    "\n",
    "plt.tight_layout()\n"
   ]
  },
  {
   "cell_type": "code",
   "execution_count": 30,
   "id": "8d0fbd2f-b11c-43bd-baf8-8d9728e5d6ad",
   "metadata": {},
   "outputs": [],
   "source": [
    "# Increasing price trend of the cars over the years"
   ]
  },
  {
   "cell_type": "markdown",
   "id": "1a8fd92c-73d8-4820-8029-e598e35f874a",
   "metadata": {},
   "source": [
    "OUTLIERS AND ITS TREATMENT"
   ]
  },
  {
   "cell_type": "code",
   "execution_count": 31,
   "id": "b8b188b5-5e25-42ec-bc64-e91a2cb06730",
   "metadata": {},
   "outputs": [
    {
     "data": {
      "text/plain": [
       "(4340, 9)"
      ]
     },
     "execution_count": 31,
     "metadata": {},
     "output_type": "execute_result"
    }
   ],
   "source": [
    "#BEFORE OUTLIER\n",
    "df.shape"
   ]
  },
  {
   "cell_type": "code",
   "execution_count": 32,
   "id": "d327b361-d5fb-4bc2-9e65-47ea9327c724",
   "metadata": {},
   "outputs": [
    {
     "data": {
      "image/png": "[encoded data removed]",
      "text/plain": [
       "<Figure size 1500x800 with 1 Axes>"
      ]
     },
     "metadata": {},
     "output_type": "display_data"
    }
   ],
   "source": [
    "plt.figure(figsize = (15,8))\n",
    "\n",
    "\n",
    "car_num.boxplot()\n",
    "\n",
    "plt.title('Distribution of all Numeric Variables', fontsize = 15)\n",
    "\n",
    "plt.xticks(rotation = 'vertical', fontsize = 15)\n",
    "\n",
    "plt.show()"
   ]
  },
  {
   "cell_type": "code",
   "execution_count": 33,
   "id": "7032317f-e652-4614-8568-f28ae7583d91",
   "metadata": {},
   "outputs": [],
   "source": [
    "#It is not necessary to treat outliers here"
   ]
  },
  {
   "cell_type": "markdown",
   "id": "fdbaefbc-a15a-4d85-aeec-dfca209c0a7d",
   "metadata": {},
   "source": [
    "ENCODING CATEGORICAL VARIABLES"
   ]
  },
  {
   "cell_type": "code",
   "execution_count": 34,
   "id": "022b9a2c-b0ab-4af4-80ee-43a086c57d3d",
   "metadata": {},
   "outputs": [],
   "source": [
    "df1 = df.copy()\n",
    "df1.drop(['name', 'manufacturer'], axis=1, inplace=True)"
   ]
  },
  {
   "cell_type": "code",
   "execution_count": 35,
   "id": "163ae8f9-2e90-481b-aae8-520ec3bbc888",
   "metadata": {},
   "outputs": [
    {
     "data": {
      "text/html": [
       "<div>\n",
       "<style scoped>\n",
       "    .dataframe tbody tr th:only-of-type {\n",
       "        vertical-align: middle;\n",
       "    }\n",
       "\n",
       "    .dataframe tbody tr th {\n",
       "        vertical-align: top;\n",
       "    }\n",
       "\n",
       "    .dataframe thead th {\n",
       "        text-align: right;\n",
       "    }\n",
       "</style>\n",
       "<table border=\"1\" class=\"dataframe\">\n",
       "  <thead>\n",
       "    <tr style=\"text-align: right;\">\n",
       "      <th></th>\n",
       "      <th>year</th>\n",
       "      <th>selling_price</th>\n",
       "      <th>km_driven</th>\n",
       "      <th>fuel</th>\n",
       "      <th>seller_type</th>\n",
       "      <th>transmission</th>\n",
       "      <th>owner</th>\n",
       "    </tr>\n",
       "  </thead>\n",
       "  <tbody>\n",
       "    <tr>\n",
       "      <th>0</th>\n",
       "      <td>2007</td>\n",
       "      <td>60000</td>\n",
       "      <td>70000</td>\n",
       "      <td>Petrol</td>\n",
       "      <td>Individual</td>\n",
       "      <td>Manual</td>\n",
       "      <td>First Owner</td>\n",
       "    </tr>\n",
       "    <tr>\n",
       "      <th>1</th>\n",
       "      <td>2007</td>\n",
       "      <td>135000</td>\n",
       "      <td>50000</td>\n",
       "      <td>Petrol</td>\n",
       "      <td>Individual</td>\n",
       "      <td>Manual</td>\n",
       "      <td>First Owner</td>\n",
       "    </tr>\n",
       "    <tr>\n",
       "      <th>2</th>\n",
       "      <td>2012</td>\n",
       "      <td>600000</td>\n",
       "      <td>100000</td>\n",
       "      <td>Diesel</td>\n",
       "      <td>Individual</td>\n",
       "      <td>Manual</td>\n",
       "      <td>First Owner</td>\n",
       "    </tr>\n",
       "    <tr>\n",
       "      <th>3</th>\n",
       "      <td>2017</td>\n",
       "      <td>250000</td>\n",
       "      <td>46000</td>\n",
       "      <td>Petrol</td>\n",
       "      <td>Individual</td>\n",
       "      <td>Manual</td>\n",
       "      <td>First Owner</td>\n",
       "    </tr>\n",
       "    <tr>\n",
       "      <th>4</th>\n",
       "      <td>2014</td>\n",
       "      <td>450000</td>\n",
       "      <td>141000</td>\n",
       "      <td>Diesel</td>\n",
       "      <td>Individual</td>\n",
       "      <td>Manual</td>\n",
       "      <td>Second Owner</td>\n",
       "    </tr>\n",
       "  </tbody>\n",
       "</table>\n",
       "</div>"
      ],
      "text/plain": [
       "   year  selling_price  km_driven    fuel seller_type transmission  \\\n",
       "0  2007          60000      70000  Petrol  Individual       Manual   \n",
       "1  2007         135000      50000  Petrol  Individual       Manual   \n",
       "2  2012         600000     100000  Diesel  Individual       Manual   \n",
       "3  2017         250000      46000  Petrol  Individual       Manual   \n",
       "4  2014         450000     141000  Diesel  Individual       Manual   \n",
       "\n",
       "          owner  \n",
       "0   First Owner  \n",
       "1   First Owner  \n",
       "2   First Owner  \n",
       "3   First Owner  \n",
       "4  Second Owner  "
      ]
     },
     "execution_count": 35,
     "metadata": {},
     "output_type": "execute_result"
    }
   ],
   "source": [
    "df1.head()"
   ]
  },
  {
   "cell_type": "code",
   "execution_count": 36,
   "id": "1360575a-609a-429c-ab3a-573dd752b4b4",
   "metadata": {},
   "outputs": [
    {
     "data": {
      "text/html": [
       "<div>\n",
       "<style scoped>\n",
       "    .dataframe tbody tr th:only-of-type {\n",
       "        vertical-align: middle;\n",
       "    }\n",
       "\n",
       "    .dataframe tbody tr th {\n",
       "        vertical-align: top;\n",
       "    }\n",
       "\n",
       "    .dataframe thead th {\n",
       "        text-align: right;\n",
       "    }\n",
       "</style>\n",
       "<table border=\"1\" class=\"dataframe\">\n",
       "  <thead>\n",
       "    <tr style=\"text-align: right;\">\n",
       "      <th></th>\n",
       "      <th>year</th>\n",
       "      <th>selling_price</th>\n",
       "      <th>km_driven</th>\n",
       "      <th>fuel_CNG</th>\n",
       "      <th>fuel_Diesel</th>\n",
       "      <th>fuel_Electric</th>\n",
       "      <th>fuel_LPG</th>\n",
       "      <th>fuel_Petrol</th>\n",
       "      <th>seller_type_Dealer</th>\n",
       "      <th>seller_type_Individual</th>\n",
       "      <th>seller_type_Trustmark Dealer</th>\n",
       "      <th>transmission_Automatic</th>\n",
       "      <th>transmission_Manual</th>\n",
       "      <th>owner_First Owner</th>\n",
       "      <th>owner_Fourth &amp; Above Owner</th>\n",
       "      <th>owner_Second Owner</th>\n",
       "      <th>owner_Test Drive Car</th>\n",
       "      <th>owner_Third Owner</th>\n",
       "    </tr>\n",
       "  </thead>\n",
       "  <tbody>\n",
       "    <tr>\n",
       "      <th>0</th>\n",
       "      <td>2007</td>\n",
       "      <td>60000</td>\n",
       "      <td>70000</td>\n",
       "      <td>0</td>\n",
       "      <td>0</td>\n",
       "      <td>0</td>\n",
       "      <td>0</td>\n",
       "      <td>1</td>\n",
       "      <td>0</td>\n",
       "      <td>1</td>\n",
       "      <td>0</td>\n",
       "      <td>0</td>\n",
       "      <td>1</td>\n",
       "      <td>1</td>\n",
       "      <td>0</td>\n",
       "      <td>0</td>\n",
       "      <td>0</td>\n",
       "      <td>0</td>\n",
       "    </tr>\n",
       "    <tr>\n",
       "      <th>1</th>\n",
       "      <td>2007</td>\n",
       "      <td>135000</td>\n",
       "      <td>50000</td>\n",
       "      <td>0</td>\n",
       "      <td>0</td>\n",
       "      <td>0</td>\n",
       "      <td>0</td>\n",
       "      <td>1</td>\n",
       "      <td>0</td>\n",
       "      <td>1</td>\n",
       "      <td>0</td>\n",
       "      <td>0</td>\n",
       "      <td>1</td>\n",
       "      <td>1</td>\n",
       "      <td>0</td>\n",
       "      <td>0</td>\n",
       "      <td>0</td>\n",
       "      <td>0</td>\n",
       "    </tr>\n",
       "    <tr>\n",
       "      <th>2</th>\n",
       "      <td>2012</td>\n",
       "      <td>600000</td>\n",
       "      <td>100000</td>\n",
       "      <td>0</td>\n",
       "      <td>1</td>\n",
       "      <td>0</td>\n",
       "      <td>0</td>\n",
       "      <td>0</td>\n",
       "      <td>0</td>\n",
       "      <td>1</td>\n",
       "      <td>0</td>\n",
       "      <td>0</td>\n",
       "      <td>1</td>\n",
       "      <td>1</td>\n",
       "      <td>0</td>\n",
       "      <td>0</td>\n",
       "      <td>0</td>\n",
       "      <td>0</td>\n",
       "    </tr>\n",
       "    <tr>\n",
       "      <th>3</th>\n",
       "      <td>2017</td>\n",
       "      <td>250000</td>\n",
       "      <td>46000</td>\n",
       "      <td>0</td>\n",
       "      <td>0</td>\n",
       "      <td>0</td>\n",
       "      <td>0</td>\n",
       "      <td>1</td>\n",
       "      <td>0</td>\n",
       "      <td>1</td>\n",
       "      <td>0</td>\n",
       "      <td>0</td>\n",
       "      <td>1</td>\n",
       "      <td>1</td>\n",
       "      <td>0</td>\n",
       "      <td>0</td>\n",
       "      <td>0</td>\n",
       "      <td>0</td>\n",
       "    </tr>\n",
       "    <tr>\n",
       "      <th>4</th>\n",
       "      <td>2014</td>\n",
       "      <td>450000</td>\n",
       "      <td>141000</td>\n",
       "      <td>0</td>\n",
       "      <td>1</td>\n",
       "      <td>0</td>\n",
       "      <td>0</td>\n",
       "      <td>0</td>\n",
       "      <td>0</td>\n",
       "      <td>1</td>\n",
       "      <td>0</td>\n",
       "      <td>0</td>\n",
       "      <td>1</td>\n",
       "      <td>0</td>\n",
       "      <td>0</td>\n",
       "      <td>1</td>\n",
       "      <td>0</td>\n",
       "      <td>0</td>\n",
       "    </tr>\n",
       "  </tbody>\n",
       "</table>\n",
       "</div>"
      ],
      "text/plain": [
       "   year  selling_price  km_driven  fuel_CNG  fuel_Diesel  fuel_Electric  \\\n",
       "0  2007          60000      70000         0            0              0   \n",
       "1  2007         135000      50000         0            0              0   \n",
       "2  2012         600000     100000         0            1              0   \n",
       "3  2017         250000      46000         0            0              0   \n",
       "4  2014         450000     141000         0            1              0   \n",
       "\n",
       "   fuel_LPG  fuel_Petrol  seller_type_Dealer  seller_type_Individual  \\\n",
       "0         0            1                   0                       1   \n",
       "1         0            1                   0                       1   \n",
       "2         0            0                   0                       1   \n",
       "3         0            1                   0                       1   \n",
       "4         0            0                   0                       1   \n",
       "\n",
       "   seller_type_Trustmark Dealer  transmission_Automatic  transmission_Manual  \\\n",
       "0                             0                       0                    1   \n",
       "1                             0                       0                    1   \n",
       "2                             0                       0                    1   \n",
       "3                             0                       0                    1   \n",
       "4                             0                       0                    1   \n",
       "\n",
       "   owner_First Owner  owner_Fourth & Above Owner  owner_Second Owner  \\\n",
       "0                  1                           0                   0   \n",
       "1                  1                           0                   0   \n",
       "2                  1                           0                   0   \n",
       "3                  1                           0                   0   \n",
       "4                  0                           0                   1   \n",
       "\n",
       "   owner_Test Drive Car  owner_Third Owner  \n",
       "0                     0                  0  \n",
       "1                     0                  0  \n",
       "2                     0                  0  \n",
       "3                     0                  0  \n",
       "4                     0                  0  "
      ]
     },
     "execution_count": 36,
     "metadata": {},
     "output_type": "execute_result"
    }
   ],
   "source": [
    "#df1 = pd.get_dummies(df1, columns=['fuel', 'seller_type', 'transmission', 'owner'], drop_first=True)\n",
    "#df1.head()\n",
    "df1 = pd.get_dummies(df1,  dtype='int64', drop_first=False)\n",
    "df1.head()"
   ]
  },
  {
   "cell_type": "markdown",
   "id": "b834ef3d-ffd2-4548-9821-7f474634c8fb",
   "metadata": {},
   "source": [
    "MINMAX SCALER"
   ]
  },
  {
   "cell_type": "code",
   "execution_count": 37,
   "id": "8a6150b9-4fd8-4b37-afab-a22af5b90d71",
   "metadata": {},
   "outputs": [],
   "source": [
    "scaler = MinMaxScaler()\n",
    "num_vars = ['km_driven']\n",
    "df1[num_vars] = scaler.fit_transform(df1[num_vars])\n"
   ]
  },
  {
   "cell_type": "code",
   "execution_count": 38,
   "id": "386ebce0-3603-49ac-8592-b556070d6b8d",
   "metadata": {},
   "outputs": [
    {
     "data": {
      "text/html": [
       "<div>\n",
       "<style scoped>\n",
       "    .dataframe tbody tr th:only-of-type {\n",
       "        vertical-align: middle;\n",
       "    }\n",
       "\n",
       "    .dataframe tbody tr th {\n",
       "        vertical-align: top;\n",
       "    }\n",
       "\n",
       "    .dataframe thead th {\n",
       "        text-align: right;\n",
       "    }\n",
       "</style>\n",
       "<table border=\"1\" class=\"dataframe\">\n",
       "  <thead>\n",
       "    <tr style=\"text-align: right;\">\n",
       "      <th></th>\n",
       "      <th>year</th>\n",
       "      <th>selling_price</th>\n",
       "      <th>km_driven</th>\n",
       "      <th>fuel_CNG</th>\n",
       "      <th>fuel_Diesel</th>\n",
       "      <th>fuel_Electric</th>\n",
       "      <th>fuel_LPG</th>\n",
       "      <th>fuel_Petrol</th>\n",
       "      <th>seller_type_Dealer</th>\n",
       "      <th>seller_type_Individual</th>\n",
       "      <th>seller_type_Trustmark Dealer</th>\n",
       "      <th>transmission_Automatic</th>\n",
       "      <th>transmission_Manual</th>\n",
       "      <th>owner_First Owner</th>\n",
       "      <th>owner_Fourth &amp; Above Owner</th>\n",
       "      <th>owner_Second Owner</th>\n",
       "      <th>owner_Test Drive Car</th>\n",
       "      <th>owner_Third Owner</th>\n",
       "    </tr>\n",
       "  </thead>\n",
       "  <tbody>\n",
       "    <tr>\n",
       "      <th>0</th>\n",
       "      <td>2007</td>\n",
       "      <td>60000</td>\n",
       "      <td>0.086783</td>\n",
       "      <td>0</td>\n",
       "      <td>0</td>\n",
       "      <td>0</td>\n",
       "      <td>0</td>\n",
       "      <td>1</td>\n",
       "      <td>0</td>\n",
       "      <td>1</td>\n",
       "      <td>0</td>\n",
       "      <td>0</td>\n",
       "      <td>1</td>\n",
       "      <td>1</td>\n",
       "      <td>0</td>\n",
       "      <td>0</td>\n",
       "      <td>0</td>\n",
       "      <td>0</td>\n",
       "    </tr>\n",
       "    <tr>\n",
       "      <th>1</th>\n",
       "      <td>2007</td>\n",
       "      <td>135000</td>\n",
       "      <td>0.061988</td>\n",
       "      <td>0</td>\n",
       "      <td>0</td>\n",
       "      <td>0</td>\n",
       "      <td>0</td>\n",
       "      <td>1</td>\n",
       "      <td>0</td>\n",
       "      <td>1</td>\n",
       "      <td>0</td>\n",
       "      <td>0</td>\n",
       "      <td>1</td>\n",
       "      <td>1</td>\n",
       "      <td>0</td>\n",
       "      <td>0</td>\n",
       "      <td>0</td>\n",
       "      <td>0</td>\n",
       "    </tr>\n",
       "    <tr>\n",
       "      <th>2</th>\n",
       "      <td>2012</td>\n",
       "      <td>600000</td>\n",
       "      <td>0.123976</td>\n",
       "      <td>0</td>\n",
       "      <td>1</td>\n",
       "      <td>0</td>\n",
       "      <td>0</td>\n",
       "      <td>0</td>\n",
       "      <td>0</td>\n",
       "      <td>1</td>\n",
       "      <td>0</td>\n",
       "      <td>0</td>\n",
       "      <td>1</td>\n",
       "      <td>1</td>\n",
       "      <td>0</td>\n",
       "      <td>0</td>\n",
       "      <td>0</td>\n",
       "      <td>0</td>\n",
       "    </tr>\n",
       "    <tr>\n",
       "      <th>3</th>\n",
       "      <td>2017</td>\n",
       "      <td>250000</td>\n",
       "      <td>0.057028</td>\n",
       "      <td>0</td>\n",
       "      <td>0</td>\n",
       "      <td>0</td>\n",
       "      <td>0</td>\n",
       "      <td>1</td>\n",
       "      <td>0</td>\n",
       "      <td>1</td>\n",
       "      <td>0</td>\n",
       "      <td>0</td>\n",
       "      <td>1</td>\n",
       "      <td>1</td>\n",
       "      <td>0</td>\n",
       "      <td>0</td>\n",
       "      <td>0</td>\n",
       "      <td>0</td>\n",
       "    </tr>\n",
       "    <tr>\n",
       "      <th>4</th>\n",
       "      <td>2014</td>\n",
       "      <td>450000</td>\n",
       "      <td>0.174807</td>\n",
       "      <td>0</td>\n",
       "      <td>1</td>\n",
       "      <td>0</td>\n",
       "      <td>0</td>\n",
       "      <td>0</td>\n",
       "      <td>0</td>\n",
       "      <td>1</td>\n",
       "      <td>0</td>\n",
       "      <td>0</td>\n",
       "      <td>1</td>\n",
       "      <td>0</td>\n",
       "      <td>0</td>\n",
       "      <td>1</td>\n",
       "      <td>0</td>\n",
       "      <td>0</td>\n",
       "    </tr>\n",
       "  </tbody>\n",
       "</table>\n",
       "</div>"
      ],
      "text/plain": [
       "   year  selling_price  km_driven  fuel_CNG  fuel_Diesel  fuel_Electric  \\\n",
       "0  2007          60000   0.086783         0            0              0   \n",
       "1  2007         135000   0.061988         0            0              0   \n",
       "2  2012         600000   0.123976         0            1              0   \n",
       "3  2017         250000   0.057028         0            0              0   \n",
       "4  2014         450000   0.174807         0            1              0   \n",
       "\n",
       "   fuel_LPG  fuel_Petrol  seller_type_Dealer  seller_type_Individual  \\\n",
       "0         0            1                   0                       1   \n",
       "1         0            1                   0                       1   \n",
       "2         0            0                   0                       1   \n",
       "3         0            1                   0                       1   \n",
       "4         0            0                   0                       1   \n",
       "\n",
       "   seller_type_Trustmark Dealer  transmission_Automatic  transmission_Manual  \\\n",
       "0                             0                       0                    1   \n",
       "1                             0                       0                    1   \n",
       "2                             0                       0                    1   \n",
       "3                             0                       0                    1   \n",
       "4                             0                       0                    1   \n",
       "\n",
       "   owner_First Owner  owner_Fourth & Above Owner  owner_Second Owner  \\\n",
       "0                  1                           0                   0   \n",
       "1                  1                           0                   0   \n",
       "2                  1                           0                   0   \n",
       "3                  1                           0                   0   \n",
       "4                  0                           0                   1   \n",
       "\n",
       "   owner_Test Drive Car  owner_Third Owner  \n",
       "0                     0                  0  \n",
       "1                     0                  0  \n",
       "2                     0                  0  \n",
       "3                     0                  0  \n",
       "4                     0                  0  "
      ]
     },
     "execution_count": 38,
     "metadata": {},
     "output_type": "execute_result"
    }
   ],
   "source": [
    "df1.head()"
   ]
  },
  {
   "cell_type": "code",
   "execution_count": 39,
   "id": "1cdac092-97a4-4c98-a53f-bc342c7a1303",
   "metadata": {},
   "outputs": [
    {
     "data": {
      "text/plain": [
       "(4340, 18)"
      ]
     },
     "execution_count": 39,
     "metadata": {},
     "output_type": "execute_result"
    }
   ],
   "source": [
    "df1.shape"
   ]
  },
  {
   "cell_type": "markdown",
   "id": "53ee7a49-054f-4d40-8830-be024d131330",
   "metadata": {},
   "source": [
    "FEATURE SELECTION"
   ]
  },
  {
   "cell_type": "code",
   "execution_count": 40,
   "id": "f331482f-7ace-4477-9b6c-4f025ee39020",
   "metadata": {},
   "outputs": [
    {
     "data": {
      "text/html": [
       "<div>\n",
       "<style scoped>\n",
       "    .dataframe tbody tr th:only-of-type {\n",
       "        vertical-align: middle;\n",
       "    }\n",
       "\n",
       "    .dataframe tbody tr th {\n",
       "        vertical-align: top;\n",
       "    }\n",
       "\n",
       "    .dataframe thead th {\n",
       "        text-align: right;\n",
       "    }\n",
       "</style>\n",
       "<table border=\"1\" class=\"dataframe\">\n",
       "  <thead>\n",
       "    <tr style=\"text-align: right;\">\n",
       "      <th></th>\n",
       "      <th>VIF</th>\n",
       "      <th>Features</th>\n",
       "    </tr>\n",
       "  </thead>\n",
       "  <tbody>\n",
       "    <tr>\n",
       "      <th>0</th>\n",
       "      <td>1.830031</td>\n",
       "      <td>selling_price</td>\n",
       "    </tr>\n",
       "    <tr>\n",
       "      <th>1</th>\n",
       "      <td>3.124075</td>\n",
       "      <td>km_driven</td>\n",
       "    </tr>\n",
       "    <tr>\n",
       "      <th>2</th>\n",
       "      <td>4.372046</td>\n",
       "      <td>year</td>\n",
       "    </tr>\n",
       "  </tbody>\n",
       "</table>\n",
       "</div>"
      ],
      "text/plain": [
       "        VIF       Features\n",
       "0  1.830031  selling_price\n",
       "1  3.124075      km_driven\n",
       "2  4.372046           year"
      ]
     },
     "execution_count": 40,
     "metadata": {},
     "output_type": "execute_result"
    }
   ],
   "source": [
    "\n",
    "variables = df1[['selling_price','km_driven','year']]\n",
    "vif = pd.DataFrame()\n",
    "vif[\"VIF\"] = [variance_inflation_factor(variables.values, i) for i in range(variables.shape[1])]\n",
    "vif[\"Features\"] = variables.columns\n",
    "vif"
   ]
  },
  {
   "cell_type": "code",
   "execution_count": 41,
   "id": "730afc5b-5f2e-4835-a0f5-241c46370eb9",
   "metadata": {},
   "outputs": [
    {
     "data": {
      "text/html": [
       "<div>\n",
       "<style scoped>\n",
       "    .dataframe tbody tr th:only-of-type {\n",
       "        vertical-align: middle;\n",
       "    }\n",
       "\n",
       "    .dataframe tbody tr th {\n",
       "        vertical-align: top;\n",
       "    }\n",
       "\n",
       "    .dataframe thead th {\n",
       "        text-align: right;\n",
       "    }\n",
       "</style>\n",
       "<table border=\"1\" class=\"dataframe\">\n",
       "  <thead>\n",
       "    <tr style=\"text-align: right;\">\n",
       "      <th></th>\n",
       "      <th>selling_price</th>\n",
       "      <th>km_driven</th>\n",
       "      <th>year</th>\n",
       "    </tr>\n",
       "  </thead>\n",
       "  <tbody>\n",
       "    <tr>\n",
       "      <th>0</th>\n",
       "      <td>60000</td>\n",
       "      <td>0.086783</td>\n",
       "      <td>2007</td>\n",
       "    </tr>\n",
       "    <tr>\n",
       "      <th>1</th>\n",
       "      <td>135000</td>\n",
       "      <td>0.061988</td>\n",
       "      <td>2007</td>\n",
       "    </tr>\n",
       "    <tr>\n",
       "      <th>2</th>\n",
       "      <td>600000</td>\n",
       "      <td>0.123976</td>\n",
       "      <td>2012</td>\n",
       "    </tr>\n",
       "    <tr>\n",
       "      <th>3</th>\n",
       "      <td>250000</td>\n",
       "      <td>0.057028</td>\n",
       "      <td>2017</td>\n",
       "    </tr>\n",
       "    <tr>\n",
       "      <th>4</th>\n",
       "      <td>450000</td>\n",
       "      <td>0.174807</td>\n",
       "      <td>2014</td>\n",
       "    </tr>\n",
       "  </tbody>\n",
       "</table>\n",
       "</div>"
      ],
      "text/plain": [
       "   selling_price  km_driven  year\n",
       "0          60000   0.086783  2007\n",
       "1         135000   0.061988  2007\n",
       "2         600000   0.123976  2012\n",
       "3         250000   0.057028  2017\n",
       "4         450000   0.174807  2014"
      ]
     },
     "execution_count": 41,
     "metadata": {},
     "output_type": "execute_result"
    }
   ],
   "source": [
    "# check for corrolation\n",
    "df2 = df1[['selling_price','km_driven','year']]\n",
    "df2.head()"
   ]
  },
  {
   "cell_type": "code",
   "execution_count": 42,
   "id": "ef7555ff-82c3-4c94-8c28-20efc447a531",
   "metadata": {},
   "outputs": [
    {
     "data": {
      "text/html": [
       "<div>\n",
       "<style scoped>\n",
       "    .dataframe tbody tr th:only-of-type {\n",
       "        vertical-align: middle;\n",
       "    }\n",
       "\n",
       "    .dataframe tbody tr th {\n",
       "        vertical-align: top;\n",
       "    }\n",
       "\n",
       "    .dataframe thead th {\n",
       "        text-align: right;\n",
       "    }\n",
       "</style>\n",
       "<table border=\"1\" class=\"dataframe\">\n",
       "  <thead>\n",
       "    <tr style=\"text-align: right;\">\n",
       "      <th></th>\n",
       "      <th>selling_price</th>\n",
       "      <th>km_driven</th>\n",
       "      <th>year</th>\n",
       "    </tr>\n",
       "  </thead>\n",
       "  <tbody>\n",
       "    <tr>\n",
       "      <th>selling_price</th>\n",
       "      <td>1.000000</td>\n",
       "      <td>-0.192289</td>\n",
       "      <td>0.413922</td>\n",
       "    </tr>\n",
       "    <tr>\n",
       "      <th>km_driven</th>\n",
       "      <td>-0.192289</td>\n",
       "      <td>1.000000</td>\n",
       "      <td>-0.419688</td>\n",
       "    </tr>\n",
       "    <tr>\n",
       "      <th>year</th>\n",
       "      <td>0.413922</td>\n",
       "      <td>-0.419688</td>\n",
       "      <td>1.000000</td>\n",
       "    </tr>\n",
       "  </tbody>\n",
       "</table>\n",
       "</div>"
      ],
      "text/plain": [
       "               selling_price  km_driven      year\n",
       "selling_price       1.000000  -0.192289  0.413922\n",
       "km_driven          -0.192289   1.000000 -0.419688\n",
       "year                0.413922  -0.419688  1.000000"
      ]
     },
     "execution_count": 42,
     "metadata": {},
     "output_type": "execute_result"
    }
   ],
   "source": [
    "# check for corrolation\n",
    "df_corr = df2.corr()\n",
    "df_corr"
   ]
  },
  {
   "cell_type": "code",
   "execution_count": 43,
   "id": "033c0424-7d36-406d-9213-9478d7bb168a",
   "metadata": {},
   "outputs": [
    {
     "data": {
      "text/plain": [
       "<Axes: >"
      ]
     },
     "execution_count": 43,
     "metadata": {},
     "output_type": "execute_result"
    },
    {
     "data": {
      "image/png": "[encoded data removed]",
      "text/plain": [
       "<Figure size 400x400 with 2 Axes>"
      ]
     },
     "metadata": {},
     "output_type": "display_data"
    }
   ],
   "source": [
    "# correlation heat map\n",
    "plt.figure(figsize=[4,4])\n",
    "sns.heatmap(df2.corr(), annot=True)"
   ]
  },
  {
   "cell_type": "code",
   "execution_count": 44,
   "id": "e85d4550-d560-49f6-b43c-77845ca5e466",
   "metadata": {},
   "outputs": [
    {
     "name": "stdout",
     "output_type": "stream",
     "text": [
      "\n",
      "--Correlated Features with target variable--\n",
      "\n",
      "year         0.413922\n",
      "km_driven    0.192289\n",
      "dtype: float64\n"
     ]
    }
   ],
   "source": [
    "# Correlated Features with target variable\n",
    "print('\\n--Correlated Features with target variable--\\n')\n",
    "print(abs(df2.corrwith(df2['selling_price'])).sort_values(ascending=False)[1:])"
   ]
  },
  {
   "cell_type": "code",
   "execution_count": 45,
   "id": "33a0065b-14af-4786-8cfe-ce283d93999a",
   "metadata": {},
   "outputs": [],
   "source": [
    "#As we can see, selling_price and km_driven is highly correlated to year\n",
    "#km_driven is negatively correlated and selling_price is positively correlated\n",
    "#As VIF<5, we need to consider all columns for car price prediction"
   ]
  },
  {
   "cell_type": "code",
   "execution_count": 46,
   "id": "04c6e0a5-359c-42ca-adcb-ff11bd1f4b03",
   "metadata": {},
   "outputs": [
    {
     "data": {
      "text/html": [
       "<div>\n",
       "<style scoped>\n",
       "    .dataframe tbody tr th:only-of-type {\n",
       "        vertical-align: middle;\n",
       "    }\n",
       "\n",
       "    .dataframe tbody tr th {\n",
       "        vertical-align: top;\n",
       "    }\n",
       "\n",
       "    .dataframe thead th {\n",
       "        text-align: right;\n",
       "    }\n",
       "</style>\n",
       "<table border=\"1\" class=\"dataframe\">\n",
       "  <thead>\n",
       "    <tr style=\"text-align: right;\">\n",
       "      <th></th>\n",
       "      <th>year</th>\n",
       "      <th>selling_price</th>\n",
       "      <th>km_driven</th>\n",
       "      <th>fuel_CNG</th>\n",
       "      <th>fuel_Diesel</th>\n",
       "      <th>fuel_Electric</th>\n",
       "      <th>fuel_LPG</th>\n",
       "      <th>fuel_Petrol</th>\n",
       "      <th>seller_type_Dealer</th>\n",
       "      <th>seller_type_Individual</th>\n",
       "      <th>seller_type_Trustmark Dealer</th>\n",
       "      <th>transmission_Automatic</th>\n",
       "      <th>transmission_Manual</th>\n",
       "      <th>owner_First Owner</th>\n",
       "      <th>owner_Fourth &amp; Above Owner</th>\n",
       "      <th>owner_Second Owner</th>\n",
       "      <th>owner_Test Drive Car</th>\n",
       "      <th>owner_Third Owner</th>\n",
       "    </tr>\n",
       "  </thead>\n",
       "  <tbody>\n",
       "    <tr>\n",
       "      <th>0</th>\n",
       "      <td>2007</td>\n",
       "      <td>60000</td>\n",
       "      <td>0.086783</td>\n",
       "      <td>0</td>\n",
       "      <td>0</td>\n",
       "      <td>0</td>\n",
       "      <td>0</td>\n",
       "      <td>1</td>\n",
       "      <td>0</td>\n",
       "      <td>1</td>\n",
       "      <td>0</td>\n",
       "      <td>0</td>\n",
       "      <td>1</td>\n",
       "      <td>1</td>\n",
       "      <td>0</td>\n",
       "      <td>0</td>\n",
       "      <td>0</td>\n",
       "      <td>0</td>\n",
       "    </tr>\n",
       "    <tr>\n",
       "      <th>1</th>\n",
       "      <td>2007</td>\n",
       "      <td>135000</td>\n",
       "      <td>0.061988</td>\n",
       "      <td>0</td>\n",
       "      <td>0</td>\n",
       "      <td>0</td>\n",
       "      <td>0</td>\n",
       "      <td>1</td>\n",
       "      <td>0</td>\n",
       "      <td>1</td>\n",
       "      <td>0</td>\n",
       "      <td>0</td>\n",
       "      <td>1</td>\n",
       "      <td>1</td>\n",
       "      <td>0</td>\n",
       "      <td>0</td>\n",
       "      <td>0</td>\n",
       "      <td>0</td>\n",
       "    </tr>\n",
       "    <tr>\n",
       "      <th>2</th>\n",
       "      <td>2012</td>\n",
       "      <td>600000</td>\n",
       "      <td>0.123976</td>\n",
       "      <td>0</td>\n",
       "      <td>1</td>\n",
       "      <td>0</td>\n",
       "      <td>0</td>\n",
       "      <td>0</td>\n",
       "      <td>0</td>\n",
       "      <td>1</td>\n",
       "      <td>0</td>\n",
       "      <td>0</td>\n",
       "      <td>1</td>\n",
       "      <td>1</td>\n",
       "      <td>0</td>\n",
       "      <td>0</td>\n",
       "      <td>0</td>\n",
       "      <td>0</td>\n",
       "    </tr>\n",
       "    <tr>\n",
       "      <th>3</th>\n",
       "      <td>2017</td>\n",
       "      <td>250000</td>\n",
       "      <td>0.057028</td>\n",
       "      <td>0</td>\n",
       "      <td>0</td>\n",
       "      <td>0</td>\n",
       "      <td>0</td>\n",
       "      <td>1</td>\n",
       "      <td>0</td>\n",
       "      <td>1</td>\n",
       "      <td>0</td>\n",
       "      <td>0</td>\n",
       "      <td>1</td>\n",
       "      <td>1</td>\n",
       "      <td>0</td>\n",
       "      <td>0</td>\n",
       "      <td>0</td>\n",
       "      <td>0</td>\n",
       "    </tr>\n",
       "    <tr>\n",
       "      <th>4</th>\n",
       "      <td>2014</td>\n",
       "      <td>450000</td>\n",
       "      <td>0.174807</td>\n",
       "      <td>0</td>\n",
       "      <td>1</td>\n",
       "      <td>0</td>\n",
       "      <td>0</td>\n",
       "      <td>0</td>\n",
       "      <td>0</td>\n",
       "      <td>1</td>\n",
       "      <td>0</td>\n",
       "      <td>0</td>\n",
       "      <td>1</td>\n",
       "      <td>0</td>\n",
       "      <td>0</td>\n",
       "      <td>1</td>\n",
       "      <td>0</td>\n",
       "      <td>0</td>\n",
       "    </tr>\n",
       "  </tbody>\n",
       "</table>\n",
       "</div>"
      ],
      "text/plain": [
       "   year  selling_price  km_driven  fuel_CNG  fuel_Diesel  fuel_Electric  \\\n",
       "0  2007          60000   0.086783         0            0              0   \n",
       "1  2007         135000   0.061988         0            0              0   \n",
       "2  2012         600000   0.123976         0            1              0   \n",
       "3  2017         250000   0.057028         0            0              0   \n",
       "4  2014         450000   0.174807         0            1              0   \n",
       "\n",
       "   fuel_LPG  fuel_Petrol  seller_type_Dealer  seller_type_Individual  \\\n",
       "0         0            1                   0                       1   \n",
       "1         0            1                   0                       1   \n",
       "2         0            0                   0                       1   \n",
       "3         0            1                   0                       1   \n",
       "4         0            0                   0                       1   \n",
       "\n",
       "   seller_type_Trustmark Dealer  transmission_Automatic  transmission_Manual  \\\n",
       "0                             0                       0                    1   \n",
       "1                             0                       0                    1   \n",
       "2                             0                       0                    1   \n",
       "3                             0                       0                    1   \n",
       "4                             0                       0                    1   \n",
       "\n",
       "   owner_First Owner  owner_Fourth & Above Owner  owner_Second Owner  \\\n",
       "0                  1                           0                   0   \n",
       "1                  1                           0                   0   \n",
       "2                  1                           0                   0   \n",
       "3                  1                           0                   0   \n",
       "4                  0                           0                   1   \n",
       "\n",
       "   owner_Test Drive Car  owner_Third Owner  \n",
       "0                     0                  0  \n",
       "1                     0                  0  \n",
       "2                     0                  0  \n",
       "3                     0                  0  \n",
       "4                     0                  0  "
      ]
     },
     "execution_count": 46,
     "metadata": {},
     "output_type": "execute_result"
    }
   ],
   "source": [
    "df1.head()"
   ]
  },
  {
   "cell_type": "markdown",
   "id": "d80072c8-cb43-4dc1-b59f-f5c9390a3746",
   "metadata": {},
   "source": [
    "TRAIN TEST SPLIT"
   ]
  },
  {
   "cell_type": "code",
   "execution_count": 47,
   "id": "e2867c14-0309-4b5f-9a59-f99cff62cb31",
   "metadata": {},
   "outputs": [],
   "source": [
    "from sklearn.model_selection import train_test_split\n",
    "X = df1.drop(['selling_price'], axis = 1)\n",
    "y = df1['selling_price']\n",
    "X_train, X_test, y_train, y_test = train_test_split(X, y, test_size = 0.20, random_state = 100)"
   ]
  },
  {
   "cell_type": "code",
   "execution_count": 48,
   "id": "2576c701-2e40-4875-8785-7edca2617420",
   "metadata": {},
   "outputs": [
    {
     "data": {
      "text/html": [
       "<div>\n",
       "<style scoped>\n",
       "    .dataframe tbody tr th:only-of-type {\n",
       "        vertical-align: middle;\n",
       "    }\n",
       "\n",
       "    .dataframe tbody tr th {\n",
       "        vertical-align: top;\n",
       "    }\n",
       "\n",
       "    .dataframe thead th {\n",
       "        text-align: right;\n",
       "    }\n",
       "</style>\n",
       "<table border=\"1\" class=\"dataframe\">\n",
       "  <thead>\n",
       "    <tr style=\"text-align: right;\">\n",
       "      <th></th>\n",
       "      <th>year</th>\n",
       "      <th>km_driven</th>\n",
       "      <th>fuel_CNG</th>\n",
       "      <th>fuel_Diesel</th>\n",
       "      <th>fuel_Electric</th>\n",
       "      <th>fuel_LPG</th>\n",
       "      <th>fuel_Petrol</th>\n",
       "      <th>seller_type_Dealer</th>\n",
       "      <th>seller_type_Individual</th>\n",
       "      <th>seller_type_Trustmark Dealer</th>\n",
       "      <th>transmission_Automatic</th>\n",
       "      <th>transmission_Manual</th>\n",
       "      <th>owner_First Owner</th>\n",
       "      <th>owner_Fourth &amp; Above Owner</th>\n",
       "      <th>owner_Second Owner</th>\n",
       "      <th>owner_Test Drive Car</th>\n",
       "      <th>owner_Third Owner</th>\n",
       "    </tr>\n",
       "  </thead>\n",
       "  <tbody>\n",
       "    <tr>\n",
       "      <th>0</th>\n",
       "      <td>2007</td>\n",
       "      <td>0.086783</td>\n",
       "      <td>0</td>\n",
       "      <td>0</td>\n",
       "      <td>0</td>\n",
       "      <td>0</td>\n",
       "      <td>1</td>\n",
       "      <td>0</td>\n",
       "      <td>1</td>\n",
       "      <td>0</td>\n",
       "      <td>0</td>\n",
       "      <td>1</td>\n",
       "      <td>1</td>\n",
       "      <td>0</td>\n",
       "      <td>0</td>\n",
       "      <td>0</td>\n",
       "      <td>0</td>\n",
       "    </tr>\n",
       "    <tr>\n",
       "      <th>1</th>\n",
       "      <td>2007</td>\n",
       "      <td>0.061988</td>\n",
       "      <td>0</td>\n",
       "      <td>0</td>\n",
       "      <td>0</td>\n",
       "      <td>0</td>\n",
       "      <td>1</td>\n",
       "      <td>0</td>\n",
       "      <td>1</td>\n",
       "      <td>0</td>\n",
       "      <td>0</td>\n",
       "      <td>1</td>\n",
       "      <td>1</td>\n",
       "      <td>0</td>\n",
       "      <td>0</td>\n",
       "      <td>0</td>\n",
       "      <td>0</td>\n",
       "    </tr>\n",
       "    <tr>\n",
       "      <th>2</th>\n",
       "      <td>2012</td>\n",
       "      <td>0.123976</td>\n",
       "      <td>0</td>\n",
       "      <td>1</td>\n",
       "      <td>0</td>\n",
       "      <td>0</td>\n",
       "      <td>0</td>\n",
       "      <td>0</td>\n",
       "      <td>1</td>\n",
       "      <td>0</td>\n",
       "      <td>0</td>\n",
       "      <td>1</td>\n",
       "      <td>1</td>\n",
       "      <td>0</td>\n",
       "      <td>0</td>\n",
       "      <td>0</td>\n",
       "      <td>0</td>\n",
       "    </tr>\n",
       "    <tr>\n",
       "      <th>3</th>\n",
       "      <td>2017</td>\n",
       "      <td>0.057028</td>\n",
       "      <td>0</td>\n",
       "      <td>0</td>\n",
       "      <td>0</td>\n",
       "      <td>0</td>\n",
       "      <td>1</td>\n",
       "      <td>0</td>\n",
       "      <td>1</td>\n",
       "      <td>0</td>\n",
       "      <td>0</td>\n",
       "      <td>1</td>\n",
       "      <td>1</td>\n",
       "      <td>0</td>\n",
       "      <td>0</td>\n",
       "      <td>0</td>\n",
       "      <td>0</td>\n",
       "    </tr>\n",
       "    <tr>\n",
       "      <th>4</th>\n",
       "      <td>2014</td>\n",
       "      <td>0.174807</td>\n",
       "      <td>0</td>\n",
       "      <td>1</td>\n",
       "      <td>0</td>\n",
       "      <td>0</td>\n",
       "      <td>0</td>\n",
       "      <td>0</td>\n",
       "      <td>1</td>\n",
       "      <td>0</td>\n",
       "      <td>0</td>\n",
       "      <td>1</td>\n",
       "      <td>0</td>\n",
       "      <td>0</td>\n",
       "      <td>1</td>\n",
       "      <td>0</td>\n",
       "      <td>0</td>\n",
       "    </tr>\n",
       "  </tbody>\n",
       "</table>\n",
       "</div>"
      ],
      "text/plain": [
       "   year  km_driven  fuel_CNG  fuel_Diesel  fuel_Electric  fuel_LPG  \\\n",
       "0  2007   0.086783         0            0              0         0   \n",
       "1  2007   0.061988         0            0              0         0   \n",
       "2  2012   0.123976         0            1              0         0   \n",
       "3  2017   0.057028         0            0              0         0   \n",
       "4  2014   0.174807         0            1              0         0   \n",
       "\n",
       "   fuel_Petrol  seller_type_Dealer  seller_type_Individual  \\\n",
       "0            1                   0                       1   \n",
       "1            1                   0                       1   \n",
       "2            0                   0                       1   \n",
       "3            1                   0                       1   \n",
       "4            0                   0                       1   \n",
       "\n",
       "   seller_type_Trustmark Dealer  transmission_Automatic  transmission_Manual  \\\n",
       "0                             0                       0                    1   \n",
       "1                             0                       0                    1   \n",
       "2                             0                       0                    1   \n",
       "3                             0                       0                    1   \n",
       "4                             0                       0                    1   \n",
       "\n",
       "   owner_First Owner  owner_Fourth & Above Owner  owner_Second Owner  \\\n",
       "0                  1                           0                   0   \n",
       "1                  1                           0                   0   \n",
       "2                  1                           0                   0   \n",
       "3                  1                           0                   0   \n",
       "4                  0                           0                   1   \n",
       "\n",
       "   owner_Test Drive Car  owner_Third Owner  \n",
       "0                     0                  0  \n",
       "1                     0                  0  \n",
       "2                     0                  0  \n",
       "3                     0                  0  \n",
       "4                     0                  0  "
      ]
     },
     "execution_count": 48,
     "metadata": {},
     "output_type": "execute_result"
    }
   ],
   "source": [
    "X.head()"
   ]
  },
  {
   "cell_type": "code",
   "execution_count": 49,
   "id": "a0641e67-31d3-48e5-ad8b-d06e8b9a457d",
   "metadata": {},
   "outputs": [
    {
     "data": {
      "text/html": [
       "<div>\n",
       "<style scoped>\n",
       "    .dataframe tbody tr th:only-of-type {\n",
       "        vertical-align: middle;\n",
       "    }\n",
       "\n",
       "    .dataframe tbody tr th {\n",
       "        vertical-align: top;\n",
       "    }\n",
       "\n",
       "    .dataframe thead th {\n",
       "        text-align: right;\n",
       "    }\n",
       "</style>\n",
       "<table border=\"1\" class=\"dataframe\">\n",
       "  <thead>\n",
       "    <tr style=\"text-align: right;\">\n",
       "      <th></th>\n",
       "      <th>year</th>\n",
       "      <th>km_driven</th>\n",
       "      <th>fuel_CNG</th>\n",
       "      <th>fuel_Diesel</th>\n",
       "      <th>fuel_Electric</th>\n",
       "      <th>fuel_LPG</th>\n",
       "      <th>fuel_Petrol</th>\n",
       "      <th>seller_type_Dealer</th>\n",
       "      <th>seller_type_Individual</th>\n",
       "      <th>seller_type_Trustmark Dealer</th>\n",
       "      <th>transmission_Automatic</th>\n",
       "      <th>transmission_Manual</th>\n",
       "      <th>owner_First Owner</th>\n",
       "      <th>owner_Fourth &amp; Above Owner</th>\n",
       "      <th>owner_Second Owner</th>\n",
       "      <th>owner_Test Drive Car</th>\n",
       "      <th>owner_Third Owner</th>\n",
       "    </tr>\n",
       "  </thead>\n",
       "  <tbody>\n",
       "    <tr>\n",
       "      <th>count</th>\n",
       "      <td>4340.000000</td>\n",
       "      <td>4340.000000</td>\n",
       "      <td>4340.000000</td>\n",
       "      <td>4340.000000</td>\n",
       "      <td>4340.000000</td>\n",
       "      <td>4340.000000</td>\n",
       "      <td>4340.000000</td>\n",
       "      <td>4340.000000</td>\n",
       "      <td>4340.000000</td>\n",
       "      <td>4340.000000</td>\n",
       "      <td>4340.000000</td>\n",
       "      <td>4340.000000</td>\n",
       "      <td>4340.000000</td>\n",
       "      <td>4340.000000</td>\n",
       "      <td>4340.000000</td>\n",
       "      <td>4340.000000</td>\n",
       "      <td>4340.000000</td>\n",
       "    </tr>\n",
       "    <tr>\n",
       "      <th>mean</th>\n",
       "      <td>2013.090783</td>\n",
       "      <td>0.082091</td>\n",
       "      <td>0.009217</td>\n",
       "      <td>0.496083</td>\n",
       "      <td>0.000230</td>\n",
       "      <td>0.005300</td>\n",
       "      <td>0.489171</td>\n",
       "      <td>0.229032</td>\n",
       "      <td>0.747465</td>\n",
       "      <td>0.023502</td>\n",
       "      <td>0.103226</td>\n",
       "      <td>0.896774</td>\n",
       "      <td>0.652535</td>\n",
       "      <td>0.018664</td>\n",
       "      <td>0.254839</td>\n",
       "      <td>0.003917</td>\n",
       "      <td>0.070046</td>\n",
       "    </tr>\n",
       "    <tr>\n",
       "      <th>std</th>\n",
       "      <td>4.215344</td>\n",
       "      <td>0.057828</td>\n",
       "      <td>0.095571</td>\n",
       "      <td>0.500042</td>\n",
       "      <td>0.015179</td>\n",
       "      <td>0.072613</td>\n",
       "      <td>0.499940</td>\n",
       "      <td>0.420258</td>\n",
       "      <td>0.434516</td>\n",
       "      <td>0.151510</td>\n",
       "      <td>0.304289</td>\n",
       "      <td>0.304289</td>\n",
       "      <td>0.476220</td>\n",
       "      <td>0.135349</td>\n",
       "      <td>0.435821</td>\n",
       "      <td>0.062471</td>\n",
       "      <td>0.255254</td>\n",
       "    </tr>\n",
       "    <tr>\n",
       "      <th>min</th>\n",
       "      <td>1992.000000</td>\n",
       "      <td>0.000000</td>\n",
       "      <td>0.000000</td>\n",
       "      <td>0.000000</td>\n",
       "      <td>0.000000</td>\n",
       "      <td>0.000000</td>\n",
       "      <td>0.000000</td>\n",
       "      <td>0.000000</td>\n",
       "      <td>0.000000</td>\n",
       "      <td>0.000000</td>\n",
       "      <td>0.000000</td>\n",
       "      <td>0.000000</td>\n",
       "      <td>0.000000</td>\n",
       "      <td>0.000000</td>\n",
       "      <td>0.000000</td>\n",
       "      <td>0.000000</td>\n",
       "      <td>0.000000</td>\n",
       "    </tr>\n",
       "    <tr>\n",
       "      <th>25%</th>\n",
       "      <td>2011.000000</td>\n",
       "      <td>0.043391</td>\n",
       "      <td>0.000000</td>\n",
       "      <td>0.000000</td>\n",
       "      <td>0.000000</td>\n",
       "      <td>0.000000</td>\n",
       "      <td>0.000000</td>\n",
       "      <td>0.000000</td>\n",
       "      <td>0.000000</td>\n",
       "      <td>0.000000</td>\n",
       "      <td>0.000000</td>\n",
       "      <td>1.000000</td>\n",
       "      <td>0.000000</td>\n",
       "      <td>0.000000</td>\n",
       "      <td>0.000000</td>\n",
       "      <td>0.000000</td>\n",
       "      <td>0.000000</td>\n",
       "    </tr>\n",
       "    <tr>\n",
       "      <th>50%</th>\n",
       "      <td>2014.000000</td>\n",
       "      <td>0.074385</td>\n",
       "      <td>0.000000</td>\n",
       "      <td>0.000000</td>\n",
       "      <td>0.000000</td>\n",
       "      <td>0.000000</td>\n",
       "      <td>0.000000</td>\n",
       "      <td>0.000000</td>\n",
       "      <td>1.000000</td>\n",
       "      <td>0.000000</td>\n",
       "      <td>0.000000</td>\n",
       "      <td>1.000000</td>\n",
       "      <td>1.000000</td>\n",
       "      <td>0.000000</td>\n",
       "      <td>0.000000</td>\n",
       "      <td>0.000000</td>\n",
       "      <td>0.000000</td>\n",
       "    </tr>\n",
       "    <tr>\n",
       "      <th>75%</th>\n",
       "      <td>2016.000000</td>\n",
       "      <td>0.111579</td>\n",
       "      <td>0.000000</td>\n",
       "      <td>1.000000</td>\n",
       "      <td>0.000000</td>\n",
       "      <td>0.000000</td>\n",
       "      <td>1.000000</td>\n",
       "      <td>0.000000</td>\n",
       "      <td>1.000000</td>\n",
       "      <td>0.000000</td>\n",
       "      <td>0.000000</td>\n",
       "      <td>1.000000</td>\n",
       "      <td>1.000000</td>\n",
       "      <td>0.000000</td>\n",
       "      <td>1.000000</td>\n",
       "      <td>0.000000</td>\n",
       "      <td>0.000000</td>\n",
       "    </tr>\n",
       "    <tr>\n",
       "      <th>max</th>\n",
       "      <td>2020.000000</td>\n",
       "      <td>1.000000</td>\n",
       "      <td>1.000000</td>\n",
       "      <td>1.000000</td>\n",
       "      <td>1.000000</td>\n",
       "      <td>1.000000</td>\n",
       "      <td>1.000000</td>\n",
       "      <td>1.000000</td>\n",
       "      <td>1.000000</td>\n",
       "      <td>1.000000</td>\n",
       "      <td>1.000000</td>\n",
       "      <td>1.000000</td>\n",
       "      <td>1.000000</td>\n",
       "      <td>1.000000</td>\n",
       "      <td>1.000000</td>\n",
       "      <td>1.000000</td>\n",
       "      <td>1.000000</td>\n",
       "    </tr>\n",
       "  </tbody>\n",
       "</table>\n",
       "</div>"
      ],
      "text/plain": [
       "              year    km_driven     fuel_CNG  fuel_Diesel  fuel_Electric  \\\n",
       "count  4340.000000  4340.000000  4340.000000  4340.000000    4340.000000   \n",
       "mean   2013.090783     0.082091     0.009217     0.496083       0.000230   \n",
       "std       4.215344     0.057828     0.095571     0.500042       0.015179   \n",
       "min    1992.000000     0.000000     0.000000     0.000000       0.000000   \n",
       "25%    2011.000000     0.043391     0.000000     0.000000       0.000000   \n",
       "50%    2014.000000     0.074385     0.000000     0.000000       0.000000   \n",
       "75%    2016.000000     0.111579     0.000000     1.000000       0.000000   \n",
       "max    2020.000000     1.000000     1.000000     1.000000       1.000000   \n",
       "\n",
       "          fuel_LPG  fuel_Petrol  seller_type_Dealer  seller_type_Individual  \\\n",
       "count  4340.000000  4340.000000         4340.000000             4340.000000   \n",
       "mean      0.005300     0.489171            0.229032                0.747465   \n",
       "std       0.072613     0.499940            0.420258                0.434516   \n",
       "min       0.000000     0.000000            0.000000                0.000000   \n",
       "25%       0.000000     0.000000            0.000000                0.000000   \n",
       "50%       0.000000     0.000000            0.000000                1.000000   \n",
       "75%       0.000000     1.000000            0.000000                1.000000   \n",
       "max       1.000000     1.000000            1.000000                1.000000   \n",
       "\n",
       "       seller_type_Trustmark Dealer  transmission_Automatic  \\\n",
       "count                   4340.000000             4340.000000   \n",
       "mean                       0.023502                0.103226   \n",
       "std                        0.151510                0.304289   \n",
       "min                        0.000000                0.000000   \n",
       "25%                        0.000000                0.000000   \n",
       "50%                        0.000000                0.000000   \n",
       "75%                        0.000000                0.000000   \n",
       "max                        1.000000                1.000000   \n",
       "\n",
       "       transmission_Manual  owner_First Owner  owner_Fourth & Above Owner  \\\n",
       "count          4340.000000        4340.000000                 4340.000000   \n",
       "mean              0.896774           0.652535                    0.018664   \n",
       "std               0.304289           0.476220                    0.135349   \n",
       "min               0.000000           0.000000                    0.000000   \n",
       "25%               1.000000           0.000000                    0.000000   \n",
       "50%               1.000000           1.000000                    0.000000   \n",
       "75%               1.000000           1.000000                    0.000000   \n",
       "max               1.000000           1.000000                    1.000000   \n",
       "\n",
       "       owner_Second Owner  owner_Test Drive Car  owner_Third Owner  \n",
       "count         4340.000000           4340.000000        4340.000000  \n",
       "mean             0.254839              0.003917           0.070046  \n",
       "std              0.435821              0.062471           0.255254  \n",
       "min              0.000000              0.000000           0.000000  \n",
       "25%              0.000000              0.000000           0.000000  \n",
       "50%              0.000000              0.000000           0.000000  \n",
       "75%              1.000000              0.000000           0.000000  \n",
       "max              1.000000              1.000000           1.000000  "
      ]
     },
     "execution_count": 49,
     "metadata": {},
     "output_type": "execute_result"
    }
   ],
   "source": [
    "X.describe()"
   ]
  },
  {
   "cell_type": "code",
   "execution_count": 50,
   "id": "a5e532f0-a757-47a8-ba42-924e00786c62",
   "metadata": {},
   "outputs": [
    {
     "data": {
      "text/plain": [
       "0     60000\n",
       "1    135000\n",
       "2    600000\n",
       "3    250000\n",
       "4    450000\n",
       "Name: selling_price, dtype: int64"
      ]
     },
     "execution_count": 50,
     "metadata": {},
     "output_type": "execute_result"
    }
   ],
   "source": [
    "y.head()"
   ]
  },
  {
   "cell_type": "code",
   "execution_count": 51,
   "id": "1d5b5e4f-d358-4378-98e7-c6638bb37c94",
   "metadata": {},
   "outputs": [
    {
     "data": {
      "text/plain": [
       "count    4.340000e+03\n",
       "mean     5.041273e+05\n",
       "std      5.785487e+05\n",
       "min      2.000000e+04\n",
       "25%      2.087498e+05\n",
       "50%      3.500000e+05\n",
       "75%      6.000000e+05\n",
       "max      8.900000e+06\n",
       "Name: selling_price, dtype: float64"
      ]
     },
     "execution_count": 51,
     "metadata": {},
     "output_type": "execute_result"
    }
   ],
   "source": [
    "y.describe()"
   ]
  },
  {
   "cell_type": "markdown",
   "id": "8c4464b6-577e-43ac-9227-63529c467f50",
   "metadata": {},
   "source": [
    "BUILDING MODEL"
   ]
  },
  {
   "cell_type": "markdown",
   "id": "db95437c-2db8-464c-8411-d259eda7c751",
   "metadata": {},
   "source": [
    "Linear Regression Model"
   ]
  },
  {
   "cell_type": "code",
   "execution_count": 52,
   "id": "063b4912-9133-4f3d-bd48-fa99afb2b240",
   "metadata": {},
   "outputs": [
    {
     "name": "stdout",
     "output_type": "stream",
     "text": [
      "R_squared : 50.76182575304928\n",
      "RMSE : 408273.51043120393\n",
      "MAE: 225195.46604987746\n",
      "MSE: 166687259319.8184\n"
     ]
    }
   ],
   "source": [
    "# Model Building\n",
    "from sklearn.linear_model import LinearRegression\n",
    "lr = LinearRegression()\n",
    "\n",
    "# Training Model\n",
    "lr.fit(X_train,y_train)\n",
    "\n",
    "# Model Summary\n",
    "y_pred_lr = lr.predict(X_test)\n",
    "\n",
    "R2_score = r2_score(y_test,y_pred_lr)*100\n",
    "rmse = np.sqrt(mean_squared_error(y_test,y_pred_lr))\n",
    "print(\"R_squared :\",R2_score)\n",
    "print(\"RMSE :\",rmse)\n",
    "print('MAE:', mean_absolute_error(y_test, y_pred_lr))\n",
    "print('MSE:', mean_squared_error(y_test, y_pred_lr))"
   ]
  },
  {
   "cell_type": "code",
   "execution_count": 53,
   "id": "f9b4db26-4bce-48ca-a25a-e7b139425382",
   "metadata": {},
   "outputs": [
    {
     "name": "stdout",
     "output_type": "stream",
     "text": [
      "\n",
      "Cross validation score : 43.797804524984336\n",
      "\n",
      "R2_Score - Cross Validation Score : 6.964021228064944\n"
     ]
    }
   ],
   "source": [
    "# Cross Validation Score\n",
    "scores = cross_val_score(lr, X_train, y_train, cv = 5).mean()*100\n",
    "print(\"\\nCross validation score :\", scores)\n",
    "\n",
    "# Difference between Accuracy and CV Score\n",
    "diff = R2_score - scores\n",
    "print(\"\\nR2_Score - Cross Validation Score :\", diff)"
   ]
  },
  {
   "cell_type": "markdown",
   "id": "ff080b0a-39ee-4871-b394-8fb8967c4b9d",
   "metadata": {},
   "source": [
    "Random Forest Regressor Model"
   ]
  },
  {
   "cell_type": "code",
   "execution_count": 54,
   "id": "2fa669f4-1fac-4a4a-95c1-648c62dd9d42",
   "metadata": {},
   "outputs": [
    {
     "name": "stdout",
     "output_type": "stream",
     "text": [
      "R_squared : 63.564228995256954\n",
      "RMSE : 351207.850027365\n",
      "MAE: 164070.2568039814\n",
      "MSE: 123346953920.84412\n"
     ]
    }
   ],
   "source": [
    "# Model Building\n",
    "rf = RandomForestRegressor()\n",
    "\n",
    "# Training Model\n",
    "rf.fit(X_train,y_train)\n",
    "\n",
    "# Model Summary\n",
    "y_pred_rf = rf.predict(X_test)\n",
    "\n",
    "R2_score = r2_score(y_test,y_pred_rf)*100\n",
    "rmse = np.sqrt(mean_squared_error(y_test,y_pred_rf))\n",
    "print(\"R_squared :\",R2_score)\n",
    "print(\"RMSE :\",rmse)\n",
    "print('MAE:', mean_absolute_error(y_test, y_pred_rf))\n",
    "print('MSE:', mean_squared_error(y_test, y_pred_rf))"
   ]
  },
  {
   "cell_type": "code",
   "execution_count": 55,
   "id": "37ab0c29-cedb-4611-ac08-41e9adcfc775",
   "metadata": {},
   "outputs": [
    {
     "name": "stdout",
     "output_type": "stream",
     "text": [
      "\n",
      "Cross validation score : 59.149169233673646\n",
      "\n",
      "R2_Score - Cross Validation Score : 4.415059761583308\n"
     ]
    }
   ],
   "source": [
    "# Cross Validation Score\n",
    "scores = cross_val_score(rf, X_train, y_train, cv = 5).mean()*100\n",
    "print(\"\\nCross validation score :\", scores)\n",
    "\n",
    "# Difference between Accuracy and CV Score\n",
    "diff = R2_score - scores\n",
    "print(\"\\nR2_Score - Cross Validation Score :\", diff)"
   ]
  },
  {
   "cell_type": "markdown",
   "id": "7b5aa609-cfbf-4ba7-bed0-1023e6e1c472",
   "metadata": {},
   "source": [
    "GBT Regressor Model"
   ]
  },
  {
   "cell_type": "code",
   "execution_count": 56,
   "id": "16919f3e-327d-4915-8520-3042b74f08e4",
   "metadata": {},
   "outputs": [
    {
     "name": "stdout",
     "output_type": "stream",
     "text": [
      "R_squared : 71.89060716528944\n",
      "RMSE : 308479.25614337577\n",
      "MAE: 169613.22957835047\n",
      "MSE: 95159451470.77045\n"
     ]
    }
   ],
   "source": [
    "# Model Building\n",
    "gbt = GradientBoostingRegressor()\n",
    "\n",
    "# Training Model\n",
    "gbt.fit(X_train,y_train)\n",
    "\n",
    "# Model Summary\n",
    "y_pred_gbt = gbt.predict(X_test)\n",
    "\n",
    "R2_score = r2_score(y_test,y_pred_gbt)*100\n",
    "rmse = np.sqrt(mean_squared_error(y_test,y_pred_gbt))\n",
    "print(\"R_squared :\",R2_score)\n",
    "print(\"RMSE :\",rmse)\n",
    "print('MAE:', mean_absolute_error(y_test, y_pred_gbt))\n",
    "print('MSE:', mean_squared_error(y_test, y_pred_gbt))"
   ]
  },
  {
   "cell_type": "code",
   "execution_count": 57,
   "id": "07724f78-cfe3-4140-b422-20f67b9b2389",
   "metadata": {},
   "outputs": [
    {
     "name": "stdout",
     "output_type": "stream",
     "text": [
      "\n",
      "Cross validation score : 60.28054095571292\n",
      "\n",
      "R2_Score - Cross Validation Score : 11.610066209576516\n"
     ]
    }
   ],
   "source": [
    "# Cross Validation Score\n",
    "scores = cross_val_score(gbt, X_train, y_train, cv = 5).mean()*100\n",
    "print(\"\\nCross validation score :\", scores)\n",
    "\n",
    "# Difference between Accuracy and CV Score\n",
    "diff = R2_score - scores\n",
    "print(\"\\nR2_Score - Cross Validation Score :\", diff)"
   ]
  },
  {
   "cell_type": "markdown",
   "id": "f4dff2f8-00e6-42db-81a0-56e2b2d80515",
   "metadata": {},
   "source": [
    "Decision Tree Regressor Model"
   ]
  },
  {
   "cell_type": "code",
   "execution_count": 59,
   "id": "ee29f9e5-4218-433e-bdeb-20c918624870",
   "metadata": {},
   "outputs": [
    {
     "name": "stdout",
     "output_type": "stream",
     "text": [
      "R2_score: 28.170533397633402\n",
      "mean_squared_error: 243166143129.1677\n",
      "mean_absolute_error: 175634.55715816445\n",
      "root_mean_squared_error: 493118.7921071024\n"
     ]
    }
   ],
   "source": [
    "#Building Model\n",
    "DTR=DecisionTreeRegressor()\n",
    "\n",
    "#Training Model\n",
    "DTR.fit(X_train,y_train)\n",
    "\n",
    "#Model Summary\n",
    "pred=DTR.predict(X_test)\n",
    "\n",
    "R2_score = r2_score(y_test,pred)*100\n",
    "print('R2_score:',R2_score)\n",
    "print('mean_squared_error:',mean_squared_error(y_test,pred))\n",
    "print('mean_absolute_error:',mean_absolute_error(y_test,pred))\n",
    "print('root_mean_squared_error:',np.sqrt(mean_squared_error(y_test,pred)))"
   ]
  },
  {
   "cell_type": "code",
   "execution_count": 62,
   "id": "2f28681c-3a9a-42aa-abd3-c88bde33a7ce",
   "metadata": {},
   "outputs": [
    {
     "name": "stdout",
     "output_type": "stream",
     "text": [
      "\n",
      "Cross validation score : 26.712575637173686\n",
      "\n",
      "R2_Score - Cross Validation Score : 1.457957760459717\n"
     ]
    }
   ],
   "source": [
    "# Cross Validation Score\n",
    "scores = cross_val_score(DTR, X_train, y_train, cv = 5).mean()*100\n",
    "print(\"\\nCross validation score :\", scores)\n",
    "\n",
    "# Difference between Accuracy and CV Score\n",
    "diff = R2_score - scores\n",
    "print(\"\\nR2_Score - Cross Validation Score :\", diff)"
   ]
  },
  {
   "cell_type": "markdown",
   "id": "205e4b99-dbbc-4dd1-a848-2603abe74077",
   "metadata": {},
   "source": [
    "Bagging Regressor Model"
   ]
  },
  {
   "cell_type": "code",
   "execution_count": 63,
   "id": "24220390-e888-4faf-8c4c-766ef732c329",
   "metadata": {},
   "outputs": [
    {
     "name": "stdout",
     "output_type": "stream",
     "text": [
      "R2_score: 55.248203321461766\n",
      "mean_squared_error: 151499409798.79562\n",
      "mean_absolute_error: 170918.90255382712\n",
      "root_mean_squared_error: 389229.2509547498\n"
     ]
    }
   ],
   "source": [
    "#Building Model\n",
    "BR=BaggingRegressor()\n",
    "\n",
    "#Training Model\n",
    "BR.fit(X_train,y_train)\n",
    "\n",
    "#Model Summary\n",
    "pred_br=BR.predict(X_test)\n",
    "\n",
    "R2_score = r2_score(y_test,pred_br)*100\n",
    "print('R2_score:',R2_score)\n",
    "print('mean_squared_error:',mean_squared_error(y_test,pred_br))\n",
    "print('mean_absolute_error:',mean_absolute_error(y_test,pred_br))\n",
    "print('root_mean_squared_error:',np.sqrt(mean_squared_error(y_test,pred_br)))"
   ]
  },
  {
   "cell_type": "code",
   "execution_count": 64,
   "id": "f31f1690-13a0-4f64-92fd-4a7efb1687b4",
   "metadata": {},
   "outputs": [
    {
     "name": "stdout",
     "output_type": "stream",
     "text": [
      "\n",
      "Cross validation score : 59.44103816668659\n",
      "\n",
      "R2_Score - Cross Validation Score : -4.192834845224823\n"
     ]
    }
   ],
   "source": [
    "# Cross Validation Score\n",
    "scores = cross_val_score(BR, X_train, y_train, cv = 5).mean()*100\n",
    "print(\"\\nCross validation score :\", scores)\n",
    "\n",
    "# Difference between Accuracy and CV Score\n",
    "diff = R2_score - scores\n",
    "print(\"\\nR2_Score - Cross Validation Score :\", diff)"
   ]
  },
  {
   "cell_type": "markdown",
   "id": "837a5bf7-66f1-415d-b4cd-cdd63df5b981",
   "metadata": {},
   "source": [
    "Extra Tree Regressor Model"
   ]
  },
  {
   "cell_type": "code",
   "execution_count": 66,
   "id": "ace2a949-adb3-411a-b37e-3a22318dcf79",
   "metadata": {},
   "outputs": [
    {
     "name": "stdout",
     "output_type": "stream",
     "text": [
      "R2_score: 57.39806205548255\n",
      "Mean absolute error : 159176.81306161382\n",
      "Mean squared error : 144221437660.72653\n",
      "Root Mean squared error : 379764.97687481204\n"
     ]
    }
   ],
   "source": [
    "#Building Model\n",
    "etc = ExtraTreesRegressor()\n",
    "\n",
    "#Training Model\n",
    "etc.fit(X_train, y_train)\n",
    "\n",
    "#Model Summary\n",
    "y_pred = etc.predict(X_test)\n",
    "\n",
    "R2_score = r2_score(y_test,y_pred)*100\n",
    "print('R2_score:',R2_score)\n",
    "print('Mean absolute error :', mean_absolute_error(y_test,y_pred))\n",
    "print('Mean squared error :', mean_squared_error(y_test, y_pred))\n",
    "print('Root Mean squared error :', np.sqrt(mean_squared_error(y_test, y_pred)))"
   ]
  },
  {
   "cell_type": "code",
   "execution_count": 67,
   "id": "5bcf2990-606c-4583-8fa0-20815ee48829",
   "metadata": {},
   "outputs": [
    {
     "name": "stdout",
     "output_type": "stream",
     "text": [
      "\n",
      "Cross validation score : 59.30945711603608\n",
      "\n",
      "R2_Score - Cross Validation Score : -1.9113950605535308\n"
     ]
    }
   ],
   "source": [
    "# Cross Validation Score\n",
    "scores = cross_val_score(etc, X_train, y_train, cv = 5).mean()*100\n",
    "print(\"\\nCross validation score :\", scores)\n",
    "\n",
    "# Difference between Accuracy and CV Score\n",
    "diff = R2_score - scores\n",
    "print(\"\\nR2_Score - Cross Validation Score :\", diff)"
   ]
  },
  {
   "cell_type": "markdown",
   "id": "373961e3-9659-4ac4-9907-59984d02e634",
   "metadata": {},
   "source": [
    "Final model Selection"
   ]
  },
  {
   "cell_type": "raw",
   "id": "43574cf5-c766-4a36-a3d1-839611440369",
   "metadata": {},
   "source": [
    "Random Forest Regressor and GBT Regressor are giving us good performance in terms of R2 score & Cross validation Score nearing 60-70 percent\n",
    "\n",
    "On Basis of difference between R2 Score and Cross Validation Score \n",
    "\n",
    "We will perform Hyper Parameter tuning over these model"
   ]
  },
  {
   "cell_type": "markdown",
   "id": "8708c538-39ca-4f2d-acb5-63902a954978",
   "metadata": {},
   "source": [
    "Hyper Parameter Tunning"
   ]
  },
  {
   "cell_type": "markdown",
   "id": "40d9cba5-13e3-4b02-9a3a-66c9a9d89438",
   "metadata": {},
   "source": [
    "Random Forest Regressor Model"
   ]
  },
  {
   "cell_type": "code",
   "execution_count": 72,
   "id": "94ad8bab-ec4b-421b-9223-831f88410423",
   "metadata": {},
   "outputs": [
    {
     "name": "stdout",
     "output_type": "stream",
     "text": [
      "{'n_estimators': 100, 'min_samples_split': 2, 'min_samples_leaf': 1, 'max_features': 'sqrt', 'max_depth': 10}\n"
     ]
    }
   ],
   "source": [
    "from sklearn.model_selection import RandomizedSearchCV\n",
    "\n",
    "# Define the hyperparameter space\n",
    "param_grid = {\n",
    "    'n_estimators': [100, 200, 300],\n",
    "    'max_depth': [5, 10, 15],\n",
    "    'min_samples_split': [2, 5, 10],\n",
    "    'min_samples_leaf': [1, 2, 4],\n",
    "    'max_features': ['auto', 'sqrt', 'log2']\n",
    "}\n",
    "\n",
    "# Create the random search object\n",
    "random_search = RandomizedSearchCV(RandomForestRegressor(), param_grid, n_iter=100, cv=5)\n",
    "\n",
    "# Fit the random search object to the data\n",
    "random_search.fit(X_train, y_train)\n",
    "\n",
    "# Print the best parameters\n",
    "print(random_search.best_params_)"
   ]
  },
  {
   "cell_type": "code",
   "execution_count": 74,
   "id": "15a00329-3019-43ad-b04e-f7bf898cd019",
   "metadata": {},
   "outputs": [
    {
     "name": "stdout",
     "output_type": "stream",
     "text": [
      "R2_Score: 70.98230888856068\n",
      "mean_squared_error: 98234337018.5872\n",
      "mean_absolute_error: 157774.7444979633\n",
      "RMSE value: 313423.57444612746\n"
     ]
    }
   ],
   "source": [
    "Final_mod1=RandomForestRegressor(n_estimators=100, min_samples_split=2, min_samples_leaf=1, max_features='sqrt', max_depth=10)\n",
    "\n",
    "Final_mod1.fit(X_train,y_train)\n",
    "\n",
    "pred=Final_mod1.predict(X_test)\n",
    "\n",
    "print('R2_Score:',r2_score(y_test,pred)*100)\n",
    "print('mean_squared_error:',mean_squared_error(y_test,pred))\n",
    "print('mean_absolute_error:',mean_absolute_error(y_test,pred))\n",
    "print(\"RMSE value:\",np.sqrt(mean_squared_error(y_test, pred)))"
   ]
  },
  {
   "cell_type": "markdown",
   "id": "5725249f-99d1-48d4-a703-d8618314ab40",
   "metadata": {},
   "source": [
    "GBT REGRESSOR MODEL"
   ]
  },
  {
   "cell_type": "code",
   "execution_count": 75,
   "id": "732bdf7c-fbca-404d-8e93-46b24aa6e1b0",
   "metadata": {},
   "outputs": [
    {
     "name": "stdout",
     "output_type": "stream",
     "text": [
      "{'alpha': 0.9, 'ccp_alpha': 0.0, 'criterion': 'friedman_mse', 'init': None, 'learning_rate': 0.1, 'loss': 'squared_error', 'max_depth': 3, 'max_features': None, 'max_leaf_nodes': None, 'min_impurity_decrease': 0.0, 'min_samples_leaf': 1, 'min_samples_split': 2, 'min_weight_fraction_leaf': 0.0, 'n_estimators': 500, 'n_iter_no_change': None, 'random_state': None, 'subsample': 1.0, 'tol': 0.0001, 'validation_fraction': 0.1, 'verbose': 0, 'warm_start': False}\n"
     ]
    }
   ],
   "source": [
    "# Define the hyperparameter space\n",
    "param_grid = {\n",
    "    'learning_rate': [0.01, 0.1, 1],\n",
    "    'n_estimators': [100, 500, 1000],\n",
    "    'max_depth': [3, 5, 10]\n",
    "}\n",
    "\n",
    "# Create a GridSearchCV object\n",
    "grid_search = GridSearchCV(gbt, param_grid, cv=5)\n",
    "\n",
    "# Fit the grid search object to the data\n",
    "grid_search.fit(X_train, y_train)\n",
    "\n",
    "# Get the best model\n",
    "best_model = grid_search.best_estimator_\n",
    "\n",
    "# Print the best model's parameters\n",
    "print(best_model.get_params())"
   ]
  },
  {
   "cell_type": "code",
   "execution_count": 77,
   "id": "d911033e-611b-420c-9c06-1faa1497bd47",
   "metadata": {},
   "outputs": [
    {
     "name": "stdout",
     "output_type": "stream",
     "text": [
      "R2_Score: 74.68117331455713\n",
      "mean_squared_error: 85712476019.58586\n",
      "mean_absolute_error: 162648.84916001937\n",
      "RMSE value: 292766.93122616474\n"
     ]
    }
   ],
   "source": [
    "Final_mod2=GradientBoostingRegressor(alpha=0.9, criterion='friedman_mse', max_depth=3, max_features=None, learning_rate=0.1,\n",
    "                                min_samples_split=2, min_samples_leaf=1, n_estimators=500)\n",
    "\n",
    "Final_mod2.fit(X_train,y_train)\n",
    "\n",
    "y_pred=Final_mod2.predict(X_test)\n",
    "\n",
    "print('R2_Score:',r2_score(y_test,y_pred)*100)\n",
    "print('mean_squared_error:',mean_squared_error(y_test,y_pred))\n",
    "print('mean_absolute_error:',mean_absolute_error(y_test,y_pred))\n",
    "print(\"RMSE value:\",np.sqrt(mean_squared_error(y_test, y_pred)))"
   ]
  },
  {
   "cell_type": "raw",
   "id": "8904e39c-1f29-4240-9ac6-9c8121c177d1",
   "metadata": {},
   "source": [
    "Final Model is Random Forest Regressor giving us R2 Score of 70.98% which has highly  improved compared to earlier R2 score of 63.56%.\n",
    "Minimizing the squared errors (MSE and RMSE) is also necessary and Model 1 outperforms Model2 in this regard."
   ]
  },
  {
   "cell_type": "code",
   "execution_count": 78,
   "id": "ede3448e-5657-4938-9e3a-365b9a3cf00b",
   "metadata": {},
   "outputs": [
    {
     "data": {
      "text/plain": [
       "array([ 715578.5579916 ,  383393.39194966,  852490.7125789 ,\n",
       "        606402.68017686,  834215.62077752,  339223.89011904,\n",
       "        451725.43950544,  426112.75360267,  762928.31214322,\n",
       "        315309.70677011,  214600.12391015,  573624.39779009,\n",
       "        441552.96534083,  745216.18951981,  504790.03970927,\n",
       "        280424.87062957,  500781.52790302, 1664013.10430557,\n",
       "        611545.63816585,  307685.3162745 ,  342107.37247184,\n",
       "        360173.71976485,  538141.5063299 ,  284964.13218319,\n",
       "        250881.84769908,   18432.64596691,  393845.94035058,\n",
       "        418943.99447626,  251444.47400086,  887874.24840634,\n",
       "        477297.6317319 ,  700032.1128371 ,  265625.47815973,\n",
       "        580419.71607738,  709492.37608159,  179587.28114502,\n",
       "        453187.58884273,  323294.77222041,  289750.17656135,\n",
       "         77105.6228403 ,  380440.30488923,  306097.30149885,\n",
       "        768574.88621915,  142315.97331612,  363551.58215076,\n",
       "        381827.52867878,  486561.50017988,  260377.90191024,\n",
       "        205326.05656371,  469584.39336925,  224978.37775277,\n",
       "        325824.75881132, 1090228.91324633,  134874.78561496,\n",
       "        737608.16020498,  352487.57555173,  160770.64891131,\n",
       "        665284.44437968,  356158.99173748,  153059.11665171,\n",
       "        648256.65144193,  554274.30762027,  133804.42069531,\n",
       "        984256.48182271,  716552.18882985,  131919.67765043,\n",
       "        546957.67998695,  494124.56759503,  446521.20365392,\n",
       "        532370.57472921,  734669.2942151 ,  562485.43960904,\n",
       "        651980.97725943,  284964.13218319,  284193.39185022,\n",
       "        797041.87602611,  243065.93803173,  381723.53566021,\n",
       "        131772.49191508,  200939.0391082 ,  392149.67085969,\n",
       "        516535.72703943,  408692.3124069 ,  386117.7454118 ,\n",
       "        164314.76549607,  857291.29556969,  266614.8740635 ,\n",
       "       2340586.57059082,  261811.60604035,  955562.74248016,\n",
       "        648062.76756334,  280574.1366945 ,  303840.20544315,\n",
       "       1573221.83196155,  397196.53672263,  611490.26797323,\n",
       "       2583483.3113623 ,  598928.67727237,  489171.52390177,\n",
       "        381075.6454428 ,  143204.88450716,  821459.25510666,\n",
       "        297654.10373266,  319687.08012006,  290893.37473082,\n",
       "        394895.2663558 ,  664505.34138075,  138284.10707911,\n",
       "        492649.46248007,  729439.88246552,  177954.92677256,\n",
       "        623751.20127486,  529691.54155497,  369559.67900745,\n",
       "         76902.81457917,  112858.43159489,  220068.01742655,\n",
       "        345251.26655041,  546957.67998695,   90525.81551827,\n",
       "        290893.37473082,  388689.31374489,  308796.27488648,\n",
       "        857291.29556969,  120614.83826597, 1380958.35139185,\n",
       "        476301.41109613,  442222.55364892,  277248.79280422,\n",
       "        184772.58375389,  363157.58443186,  506508.66427913,\n",
       "        192861.41639523,  143172.28406602,  227789.73185282,\n",
       "        367034.86679165,  504790.03970927,  273534.47617763,\n",
       "        525669.76174101,  150550.71046006,  282793.37468688,\n",
       "        715578.5579916 ,  470982.52058028,  199899.21405974,\n",
       "        298191.88230327,  353341.67612258,  193150.42351648,\n",
       "        102614.29991188,  196436.74550984,  337622.07346012,\n",
       "       1573221.83196155,  477496.12231362, 3776489.95172832,\n",
       "        855311.04103727,  196521.74543368,  685669.7350648 ,\n",
       "        190719.10065694,  154046.43611053,  473107.93024387,\n",
       "        601333.35991652,   91161.54882964,  288200.60150597,\n",
       "        352823.11390802,  387813.18836618,  351935.1142213 ,\n",
       "        397196.53672263,  852490.7125789 , 3776489.95172832,\n",
       "        534975.57722973,  852490.7125789 ,  283029.83642405,\n",
       "        484565.65603516,  489808.2062121 ,  353341.67612258,\n",
       "        281091.96423688,  131011.9545204 ,  387803.16405313,\n",
       "        375776.98536488,  477496.12231362,  381723.53566021,\n",
       "        661181.20357284,  191697.32149311,  418078.04300657,\n",
       "        182388.02787219,  520599.11145513, 1345661.62993214,\n",
       "        529691.54155497,  252279.42194417,  749822.3811735 ,\n",
       "        183509.48451437,  202647.12637246,  504790.03970927,\n",
       "        477135.53384193,  178395.92251924,  191697.32149311,\n",
       "        835910.41969921,  376577.86636373, 4637187.09011409,\n",
       "        517750.50583187,  525214.07299121,  434858.13969428,\n",
       "        358478.83500225,  319654.71856679,  414738.33948456,\n",
       "        101491.33802141,  721639.77662623,  398979.01427707,\n",
       "         96921.10939174,  680293.33442419,  150550.71046006,\n",
       "        407041.14253725,  369070.43239662,  758570.88906104,\n",
       "        160458.31712261,  285930.82457315, 1933283.53208716,\n",
       "        733649.29184302,  466338.02664559,  131686.22095795,\n",
       "        144408.30612222,  156860.16791577,  708914.01686222,\n",
       "        536485.37183877, 1627219.67580703,  465158.51132943,\n",
       "        302958.59357904,  332737.30579852,  492780.9415398 ,\n",
       "       1115379.39516047,  263324.84303083, 2560119.46479678,\n",
       "        293573.33116193,  580419.71607738,  240755.4842539 ,\n",
       "        144604.19355701,  652986.05227071,  485428.16583967,\n",
       "        227411.10600732,  416103.88433586,  293848.31582179,\n",
       "        215901.15520855,  382555.04496413,  249259.70554974,\n",
       "        562538.70748785,  369559.67900745,  591113.47419518,\n",
       "        275793.08058546,  481966.18004863,  353823.949295  ,\n",
       "        424161.59057955,  342405.94502071,  134740.79687692,\n",
       "        294670.23906566,  102517.58084336,  425047.74027131,\n",
       "        768621.02349751,  477496.12231362, 2454714.4101297 ,\n",
       "        126430.43895781,  252314.67774038,  387595.55699699,\n",
       "        342456.66100517,  186110.98408743,  348296.31429215,\n",
       "        173880.87388601,  322044.84489838,  640754.3234438 ,\n",
       "        220716.06389838,  335535.91176414,   91222.37163503,\n",
       "        672400.12530712,  484512.94138039,  234125.9590217 ,\n",
       "        144926.09719516,  385705.44907789,   91651.78365365,\n",
       "       1897310.06915203,  300863.76105748,  304170.35345755,\n",
       "       4637187.09011409,  398475.78391848,  180385.56629837,\n",
       "        369559.67900745,   78393.5805561 ,  546957.67998695,\n",
       "        599840.85232426,  487511.91100608,  474584.47766738,\n",
       "        571818.79738495,  189358.87947139,  295620.64989185,\n",
       "        396996.78380213,  345282.33947329,  597288.75503778,\n",
       "        476301.41109613, 3776489.95172832,  147843.33283637,\n",
       "        312229.17636046, 4637187.09011409,  351725.27387617,\n",
       "        112079.58568714,  305272.36758247,  681304.71512197,\n",
       "        518396.21400544,  225900.7604559 ,  322591.67609847,\n",
       "        353341.67612258,   86835.35417951,  164421.92685324,\n",
       "        349152.35383205,  437857.34636837,  648062.76756334,\n",
       "        396996.78380213,  648062.76756334,  383393.39194966,\n",
       "        138144.94505834,  293848.31582179,  715578.5579916 ,\n",
       "       1828680.53105661,  253396.37931781, 4637187.09011409,\n",
       "        301946.8144632 ,  611490.26797323,  548444.49004691,\n",
       "        346168.48916505,  721639.77662623,  861456.99543514,\n",
       "         68017.5538142 , 1682358.79475121,  206971.19971472,\n",
       "        355626.12296898,  378749.33119222,   57590.08921448,\n",
       "        252379.03411308,   89361.69392387,  369559.67900745,\n",
       "       2454714.4101297 ,  274264.92813721,  311206.32398418,\n",
       "        566929.27744184,   96921.10939174,  504790.03970927,\n",
       "        685669.7350648 ,  133072.42907385,  227411.10600732,\n",
       "        288200.60150597,  148710.61896218,  472509.06652659,\n",
       "         90525.81551827,  357459.82388929,  421800.51916807,\n",
       "        484512.94138039,  478085.94466813,  190719.10065694,\n",
       "        133859.66248308,  256710.19919959,  398979.01427707,\n",
       "         94000.96678015,  276789.93972593,  381438.15303746,\n",
       "        465158.51132943,  273148.75907818,  187955.50977967,\n",
       "        342582.05447484,   92932.41010942,  749822.3811735 ,\n",
       "         54316.58286384,  203124.57953474,  253319.37674669,\n",
       "        461019.87620804, 1917016.06168823,  930057.91712146,\n",
       "        314799.44346643,  465564.67898926,  303219.94263135,\n",
       "        408605.88924924,  796838.41530819,  453187.58884273,\n",
       "        102300.53318799,  142980.00139845,  302704.57204762,\n",
       "        167529.98810363,  615531.97598359,  362300.94435586,\n",
       "        123726.349637  ,  276437.17307943,  232094.08285473,\n",
       "        384860.65213875,  315805.35819855,  639871.82295387,\n",
       "        475086.97504244,  599840.85232426,  827465.39494114,\n",
       "        381827.52867878,  396996.78380213,  100457.02761904,\n",
       "        311951.67467763,  608407.03937137,   83732.00039377,\n",
       "        175166.02367904,  302958.59357904,  409622.36592281,\n",
       "        715578.5579916 ,  477135.53384193,  648062.76756334,\n",
       "        362064.88307029,  474584.47766738,  470819.18103195,\n",
       "        397196.53672263,  302958.59357904,  192316.4915852 ,\n",
       "        386024.08789686,  308779.58524763,  380997.12095239,\n",
       "        384859.54841858,  519950.86287059,  396996.78380213,\n",
       "        307280.32490644,  294670.23906566,  102614.29991188,\n",
       "        298604.51455886,  463934.91466023,  529691.54155497,\n",
       "        360443.68855629,  498872.94728247,  277632.41576889,\n",
       "        205326.05656371,   79989.70538847,  361103.48982408,\n",
       "       1501941.81617109,  668850.64530556,  386692.20430535,\n",
       "        429465.11509299,  357659.57680979,  259708.47830426,\n",
       "        300273.27815318,  245753.40043844,  587610.6973028 ,\n",
       "        558450.73353871,  809094.53068913,  508897.80068117,\n",
       "        459514.84168087,  819973.45215821,  381827.52867878,\n",
       "        412645.61350092,  288200.60150597,  311070.24985707,\n",
       "        677223.45042042,  489356.75903793,  410957.54262497,\n",
       "        432401.63250866, 4043251.58470258,  955562.74248016,\n",
       "       1701218.21390321,  562112.173663  ,  538855.53974306,\n",
       "        394375.41229588, 1363941.46110862,  413882.69934044,\n",
       "        361188.47322125,  114781.73730486,  190719.10065694,\n",
       "        310506.53878417,  737608.16020498,  188445.74460368,\n",
       "       2847225.58227407,  456566.01464915,  352965.32777386,\n",
       "        218582.34822126,  883130.16029704,  350176.77529581,\n",
       "        893713.84296033,  191697.32149311,  245807.17003139,\n",
       "       1851269.29917961,  297654.10373266,  361990.43610178,\n",
       "        802458.16677961,  140664.73803235,  238511.12623597,\n",
       "        129854.88306081,  650724.69109941,  273534.47617763,\n",
       "        714507.91637567, 1766273.74714072,  357659.57680979,\n",
       "        554274.30762027,  196436.74550984,  810296.7014491 ,\n",
       "        240322.38078731,  601641.60966715,  109455.58008091,\n",
       "        219492.23340176,  353823.949295  ,  119906.62395487,\n",
       "        575963.39690718,  880898.36644079,  390017.62371128,\n",
       "        362596.30789926,  386456.97541297,  749189.88624001,\n",
       "        143023.53109584,  442716.27895277,  212448.24677413,\n",
       "        278163.70421689,  282761.82052633,  369559.67900745,\n",
       "        254990.26851705,  399980.64846913,  357659.57680979,\n",
       "        262803.91120267,  200939.0391082 ,  442716.27895277,\n",
       "        216540.37153753,  138144.94505834,  416501.99144728,\n",
       "        205326.05656371,  413626.97360408,  830314.71404926,\n",
       "        344935.79384998, 3776489.95172832,  354675.71214279,\n",
       "         96921.10939174,  506949.70288357,  557696.90240376,\n",
       "        489345.61192638,  304170.35345755,  450508.31692755,\n",
       "        486561.50017988,  434507.44751037,   25201.50791274,\n",
       "        131919.67765043,  724335.48019991,  386671.79968827,\n",
       "       1640414.77584972,  140241.15692599,  662459.93670746,\n",
       "        175185.47400434,  254640.44254989,  381827.52867878,\n",
       "        705862.00788887,  318173.90416004,  911425.20542433,\n",
       "        534086.1052268 ,  492560.84396616,  354675.71214279,\n",
       "        580419.71607738,  240322.38078731,  310506.53878417,\n",
       "         44703.93858036,  263776.6991749 ,  287177.25651723,\n",
       "        354675.71214279,  768574.88621915,  462345.46319841,\n",
       "        574825.51230003,  483689.61751841, 1491921.5193416 ,\n",
       "       1413545.66920197,  830314.71404926,  381799.92325704,\n",
       "        355626.12296898,  462953.58198607,  375776.98536488,\n",
       "       1971622.82238613,  136306.69510594,  184772.58375389,\n",
       "        102517.58084336,  290984.71325247,  273534.47617763,\n",
       "        111238.56674709,  423770.75066518,  951369.50446713,\n",
       "        314952.16438183,  253396.37931781,  102614.29991188,\n",
       "        488381.41542585,  355626.12296898,  396710.45473836,\n",
       "        450732.06418098,  289750.17656135,  558450.73353871,\n",
       "        375725.49301195,  181768.8577801 ,  359949.09982536,\n",
       "        150732.68892973,  594360.27885602,  967768.67165484,\n",
       "        275394.36262135,  431027.19310143,  456344.69864781,\n",
       "        628437.43326604,  461019.87620804,  657832.31190231,\n",
       "        739797.57654387,  188850.9080563 ,  375725.49301195,\n",
       "       1345661.62993214,  727086.78516982,  360173.71976485,\n",
       "        468436.66562091,   25944.28591767,  240755.4842539 ,\n",
       "        716552.18882985,  440619.52447764,  336173.77959543,\n",
       "        389048.79177986,  180385.56629837,  615622.21956416,\n",
       "        339904.48732898,  400114.60291978,  616530.7800061 ,\n",
       "        465564.67898926,  477496.12231362,  606402.68017686,\n",
       "        349654.33433876,  542437.87563245,  442716.27895277,\n",
       "        700032.1128371 ,  404220.87740548,  809094.53068913,\n",
       "        139361.35419692,  355626.12296898,  418459.12873633,\n",
       "        171398.45503122,  202614.75304431,  329857.4423098 ,\n",
       "         75867.44753608,  169760.01156709,  721639.77662623,\n",
       "        134682.50294739,   94491.87737185,  221947.21153501,\n",
       "        984256.48182271,  864364.91957486,  359637.44218829,\n",
       "        900075.63405549,  443633.58259194,  101491.33802141,\n",
       "        492345.98425738,  229680.21921825,  235076.36984789,\n",
       "        288117.50412512,  893713.84296033,   83468.49826345,\n",
       "        176716.90308696,  165735.52084084,  576015.75303947,\n",
       "        168185.42456608,  399552.30712524,  350520.22796548,\n",
       "        453616.84370331,  394212.67205563,  314088.65115472,\n",
       "        140482.27239581,  829068.54215539, 1105249.23529308,\n",
       "        194309.12479456,  131011.9545204 ,  344455.41272528,\n",
       "        739797.57654387,  326266.29697297,  547433.34679085,\n",
       "        229251.16892926,  864364.91957486,  102614.29991188,\n",
       "        462953.58198607,  336485.77199653, 2474076.07467438,\n",
       "        782121.1400573 ,  277723.75429054,  795344.54563577,\n",
       "       1666160.91713014,  415852.02212166,  160770.64891131,\n",
       "        423456.10228907,  640928.3059845 ,  584017.50889126,\n",
       "        599097.15579012,  129426.091606  ,  513061.57186352,\n",
       "        137305.88624294,  206368.56324713,  782121.1400573 ,\n",
       "        307207.20548703,  597705.48971295,  449850.94775602,\n",
       "        477496.12231362,  583328.38166617,   83625.64930307,\n",
       "        468063.0593288 ,  427830.50066056,  449840.18653398,\n",
       "        304074.46071009,  348462.43155813,  190719.10065694,\n",
       "        326638.18149764,  421800.51916807, 3776489.95172832,\n",
       "        532370.57472921,  433185.50906464,  107190.07577812,\n",
       "         35058.25188033,  114328.81705198, 1862640.10189731,\n",
       "        505077.4907091 ,  240322.38078731,  447412.56934175,\n",
       "        178580.24680227,  597288.75503778,  190719.10065694,\n",
       "        523118.49996274,  263776.6991749 ,  228052.1173497 ,\n",
       "        599097.15579012,  198927.11361078,  506729.28559628,\n",
       "        375725.49301195,  259708.47830426,  349654.33433876,\n",
       "        550845.7358289 ,  461766.26126157,  580419.71607738,\n",
       "        145698.1691419 ,  276972.26484548,  150550.71046006,\n",
       "        524225.63416324,  677416.14084367,  398146.94754883,\n",
       "        576592.4071795 ,   49212.82266572,  253396.37931781,\n",
       "        339888.84188835,  485428.16583967,  611490.26797323,\n",
       "        225828.46057063,  639581.38173197,  575963.39690718,\n",
       "        573768.00782411,  496596.69713478,  539527.29092258,\n",
       "         98420.8637813 , 1042854.31238947,  381438.15303746,\n",
       "        325299.94034565,  383973.35706229,  555723.15604995,\n",
       "        347223.99383636,  291848.85198018,  815242.78081422,\n",
       "        291453.24464228,   92248.61445698, 1016436.49631301,\n",
       "        394274.40055013,  718292.786565  ,  501549.71574351,\n",
       "        837214.38601191, 1573221.83196155, 2474076.07467438,\n",
       "        234295.85014506,  836764.45714988,  575963.39690718,\n",
       "        326621.69915325,  577780.3371282 ,  494872.9461009 ,\n",
       "        350228.65850393,  353341.67612258,   88129.0019487 ,\n",
       "        427592.9688257 ,  756749.68558898,  478085.94466813,\n",
       "       2560119.46479678,  449495.4418684 , 1026198.50600291,\n",
       "        463934.91466023,  486561.50017988,   96108.28545114,\n",
       "        128989.92838573,  365793.50264485,  145628.56093121,\n",
       "        504790.03970927,  332840.17689339,  597288.75503778,\n",
       "        762928.31214322,  426224.16012685,  275394.36262135,\n",
       "        474584.47766738,  823249.14432312,  662774.00711601,\n",
       "        458686.69425143,  145748.93765947, 1771059.36530055,\n",
       "        437133.63818521,  477135.53384193,  510744.67318768,\n",
       "        443121.66500729,  142315.97331612, 3702689.80565416,\n",
       "       1363941.46110862,  181224.02110285, 1296225.34559919,\n",
       "        348296.31429215,  424161.59057955,  277248.79280422,\n",
       "        883130.16029704,  421800.51916807,  197055.91560192,\n",
       "        197055.91560192,  677862.30490865,  815242.78081422,\n",
       "        650724.69109941,  433185.50906464,  358845.77626777,\n",
       "        227411.10600732,  197055.91560192,  314088.65115472,\n",
       "       1848084.12479007,   97873.22772188, 1363941.46110862,\n",
       "        109455.58008091,  314149.61249799,  462335.2991523 ,\n",
       "        337218.76646782,  454851.11659484,  727086.78516982,\n",
       "        232267.60627026,  259708.47830426,  312972.83023577,\n",
       "        297454.35081216,  347622.5665077 ,  297654.10373266,\n",
       "        905995.744453  ,  142315.97331612,  309081.16616585,\n",
       "        114226.6081167 ,  145748.93765947,  294749.13501339,\n",
       "        357659.57680979,  445712.2376793 , 1124838.8749502 ,\n",
       "         70009.99337064,  529370.09906886,  468436.66562091,\n",
       "        294670.23906566,  130353.7794214 ,  537191.0955037 ,\n",
       "        858801.18355907,  650170.78293216,  457468.39541128,\n",
       "        597288.75503778, 1941853.4193981 ,  492988.81361188,\n",
       "        196436.74550984, 1529607.9455431 ,  739797.57654387,\n",
       "        240755.4842539 ,  441246.81871031,  685333.84645705,\n",
       "       1086945.84715891,  616619.37393555,  319985.65017113,\n",
       "        521373.3981218 ,  323444.47438293,  327103.7501172 ,\n",
       "        568167.55850484,  666291.89744591,  442222.55364892,\n",
       "        608522.12893772])"
      ]
     },
     "execution_count": 78,
     "metadata": {},
     "output_type": "execute_result"
    }
   ],
   "source": [
    "y_pred"
   ]
  },
  {
   "cell_type": "markdown",
   "id": "530506ae-b133-48e6-994b-d671d02276ac",
   "metadata": {},
   "source": [
    "VISUALIZING PREDICTED VALUES IN COMPARISION TO ACTUAL VALUES"
   ]
  },
  {
   "cell_type": "code",
   "execution_count": 79,
   "id": "281e9cf8-bb95-46f7-8033-52669b4b9942",
   "metadata": {},
   "outputs": [
    {
     "data": {
      "text/plain": [
       "Text(0.5, 1.0, 'True value Vs Predicted values of Selling Price')"
      ]
     },
     "execution_count": 79,
     "metadata": {},
     "output_type": "execute_result"
    },
    {
     "data": {
      "image/png": "[encoded data removed]",
      "text/plain": [
       "<Figure size 700x500 with 1 Axes>"
      ]
     },
     "metadata": {},
     "output_type": "display_data"
    }
   ],
   "source": [
    "plt.figure(figsize=(7,5))\n",
    "plt.scatter(x= y_test, y= y_pred)\n",
    "plt.xlabel('True values')\n",
    "plt.ylabel('Predicted Values')\n",
    "plt.title('True value Vs Predicted values of Selling Price', fontsize=14)"
   ]
  },
  {
   "cell_type": "markdown",
   "id": "4498196b-ae0f-41dc-b4b3-02c71ab075bc",
   "metadata": {},
   "source": [
    "Checking for Normal Distribution"
   ]
  },
  {
   "cell_type": "code",
   "execution_count": 80,
   "id": "baf92193-682e-4623-930e-e82b65a28a36",
   "metadata": {},
   "outputs": [
    {
     "data": {
      "text/plain": [
       "<Axes: xlabel='selling_price', ylabel='Density'>"
      ]
     },
     "execution_count": 80,
     "metadata": {},
     "output_type": "execute_result"
    },
    {
     "data": {
      "image/png": "[encoded data removed]",
      "text/plain": [
       "<Figure size 640x480 with 1 Axes>"
      ]
     },
     "metadata": {},
     "output_type": "display_data"
    }
   ],
   "source": [
    "sns.distplot(y_test - y_pred)"
   ]
  },
  {
   "cell_type": "code",
   "execution_count": null,
   "id": "4ec9c7fb-c703-4761-bf2a-f1ef329e0dd4",
   "metadata": {},
   "outputs": [],
   "source": []
  }
 ],
 "metadata": {
  "kernelspec": {
   "display_name": "Python 3 (ipykernel)",
   "language": "python",
   "name": "python3"
  },
  "language_info": {
   "codemirror_mode": {
    "name": "ipython",
    "version": 3
   },
   "file_extension": ".py",
   "mimetype": "text/x-python",
   "name": "python",
   "nbconvert_exporter": "python",
   "pygments_lexer": "ipython3",
   "version": "3.11.7"
  }
 },
 "nbformat": 4,
 "nbformat_minor": 5
}
